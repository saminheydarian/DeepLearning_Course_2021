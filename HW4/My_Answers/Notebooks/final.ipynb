{
  "nbformat": 4,
  "nbformat_minor": 0,
  "metadata": {
    "colab": {
      "name": "finall.ipynb",
      "provenance": []
    },
    "kernelspec": {
      "name": "python3",
      "display_name": "Python 3"
    },
    "language_info": {
      "name": "python"
    },
    "accelerator": "GPU",
    "widgets": {
      "application/vnd.jupyter.widget-state+json": {
        "68e0cc6f241d496089e3eac2888bc823": {
          "model_module": "@jupyter-widgets/controls",
          "model_name": "HBoxModel",
          "state": {
            "_view_name": "HBoxView",
            "_dom_classes": [],
            "_model_name": "HBoxModel",
            "_view_module": "@jupyter-widgets/controls",
            "_model_module_version": "1.5.0",
            "_view_count": null,
            "_view_module_version": "1.5.0",
            "box_style": "",
            "layout": "IPY_MODEL_e53a2540fbd64d5aab24f117c8012a6c",
            "_model_module": "@jupyter-widgets/controls",
            "children": [
              "IPY_MODEL_d36135bf0c5542a6bd7e088ac8c1b97b",
              "IPY_MODEL_1da4f38fb4344e628ac444e9d9cd6709"
            ]
          }
        },
        "e53a2540fbd64d5aab24f117c8012a6c": {
          "model_module": "@jupyter-widgets/base",
          "model_name": "LayoutModel",
          "state": {
            "_view_name": "LayoutView",
            "grid_template_rows": null,
            "right": null,
            "justify_content": null,
            "_view_module": "@jupyter-widgets/base",
            "overflow": null,
            "_model_module_version": "1.2.0",
            "_view_count": null,
            "flex_flow": null,
            "width": null,
            "min_width": null,
            "border": null,
            "align_items": null,
            "bottom": null,
            "_model_module": "@jupyter-widgets/base",
            "top": null,
            "grid_column": null,
            "overflow_y": null,
            "overflow_x": null,
            "grid_auto_flow": null,
            "grid_area": null,
            "grid_template_columns": null,
            "flex": null,
            "_model_name": "LayoutModel",
            "justify_items": null,
            "grid_row": null,
            "max_height": null,
            "align_content": null,
            "visibility": null,
            "align_self": null,
            "height": null,
            "min_height": null,
            "padding": null,
            "grid_auto_rows": null,
            "grid_gap": null,
            "max_width": null,
            "order": null,
            "_view_module_version": "1.2.0",
            "grid_template_areas": null,
            "object_position": null,
            "object_fit": null,
            "grid_auto_columns": null,
            "margin": null,
            "display": null,
            "left": null
          }
        },
        "d36135bf0c5542a6bd7e088ac8c1b97b": {
          "model_module": "@jupyter-widgets/controls",
          "model_name": "FloatProgressModel",
          "state": {
            "_view_name": "ProgressView",
            "style": "IPY_MODEL_7ace4d33a47b4a35b8f5265f8ad1fab0",
            "_dom_classes": [],
            "description": "",
            "_model_name": "FloatProgressModel",
            "bar_style": "success",
            "max": 170498071,
            "_view_module": "@jupyter-widgets/controls",
            "_model_module_version": "1.5.0",
            "value": 170498071,
            "_view_count": null,
            "_view_module_version": "1.5.0",
            "orientation": "horizontal",
            "min": 0,
            "description_tooltip": null,
            "_model_module": "@jupyter-widgets/controls",
            "layout": "IPY_MODEL_40dfc4ba554748749ddc642c459b0aff"
          }
        },
        "1da4f38fb4344e628ac444e9d9cd6709": {
          "model_module": "@jupyter-widgets/controls",
          "model_name": "HTMLModel",
          "state": {
            "_view_name": "HTMLView",
            "style": "IPY_MODEL_f1d875dd21a748538ec5868eaabc1f6d",
            "_dom_classes": [],
            "description": "",
            "_model_name": "HTMLModel",
            "placeholder": "​",
            "_view_module": "@jupyter-widgets/controls",
            "_model_module_version": "1.5.0",
            "value": " 170499072/? [00:08&lt;00:00, 21101289.55it/s]",
            "_view_count": null,
            "_view_module_version": "1.5.0",
            "description_tooltip": null,
            "_model_module": "@jupyter-widgets/controls",
            "layout": "IPY_MODEL_074fbe65cce24a2fa07ceab07cb6d194"
          }
        },
        "7ace4d33a47b4a35b8f5265f8ad1fab0": {
          "model_module": "@jupyter-widgets/controls",
          "model_name": "ProgressStyleModel",
          "state": {
            "_view_name": "StyleView",
            "_model_name": "ProgressStyleModel",
            "description_width": "initial",
            "_view_module": "@jupyter-widgets/base",
            "_model_module_version": "1.5.0",
            "_view_count": null,
            "_view_module_version": "1.2.0",
            "bar_color": null,
            "_model_module": "@jupyter-widgets/controls"
          }
        },
        "40dfc4ba554748749ddc642c459b0aff": {
          "model_module": "@jupyter-widgets/base",
          "model_name": "LayoutModel",
          "state": {
            "_view_name": "LayoutView",
            "grid_template_rows": null,
            "right": null,
            "justify_content": null,
            "_view_module": "@jupyter-widgets/base",
            "overflow": null,
            "_model_module_version": "1.2.0",
            "_view_count": null,
            "flex_flow": null,
            "width": null,
            "min_width": null,
            "border": null,
            "align_items": null,
            "bottom": null,
            "_model_module": "@jupyter-widgets/base",
            "top": null,
            "grid_column": null,
            "overflow_y": null,
            "overflow_x": null,
            "grid_auto_flow": null,
            "grid_area": null,
            "grid_template_columns": null,
            "flex": null,
            "_model_name": "LayoutModel",
            "justify_items": null,
            "grid_row": null,
            "max_height": null,
            "align_content": null,
            "visibility": null,
            "align_self": null,
            "height": null,
            "min_height": null,
            "padding": null,
            "grid_auto_rows": null,
            "grid_gap": null,
            "max_width": null,
            "order": null,
            "_view_module_version": "1.2.0",
            "grid_template_areas": null,
            "object_position": null,
            "object_fit": null,
            "grid_auto_columns": null,
            "margin": null,
            "display": null,
            "left": null
          }
        },
        "f1d875dd21a748538ec5868eaabc1f6d": {
          "model_module": "@jupyter-widgets/controls",
          "model_name": "DescriptionStyleModel",
          "state": {
            "_view_name": "StyleView",
            "_model_name": "DescriptionStyleModel",
            "description_width": "",
            "_view_module": "@jupyter-widgets/base",
            "_model_module_version": "1.5.0",
            "_view_count": null,
            "_view_module_version": "1.2.0",
            "_model_module": "@jupyter-widgets/controls"
          }
        },
        "074fbe65cce24a2fa07ceab07cb6d194": {
          "model_module": "@jupyter-widgets/base",
          "model_name": "LayoutModel",
          "state": {
            "_view_name": "LayoutView",
            "grid_template_rows": null,
            "right": null,
            "justify_content": null,
            "_view_module": "@jupyter-widgets/base",
            "overflow": null,
            "_model_module_version": "1.2.0",
            "_view_count": null,
            "flex_flow": null,
            "width": null,
            "min_width": null,
            "border": null,
            "align_items": null,
            "bottom": null,
            "_model_module": "@jupyter-widgets/base",
            "top": null,
            "grid_column": null,
            "overflow_y": null,
            "overflow_x": null,
            "grid_auto_flow": null,
            "grid_area": null,
            "grid_template_columns": null,
            "flex": null,
            "_model_name": "LayoutModel",
            "justify_items": null,
            "grid_row": null,
            "max_height": null,
            "align_content": null,
            "visibility": null,
            "align_self": null,
            "height": null,
            "min_height": null,
            "padding": null,
            "grid_auto_rows": null,
            "grid_gap": null,
            "max_width": null,
            "order": null,
            "_view_module_version": "1.2.0",
            "grid_template_areas": null,
            "object_position": null,
            "object_fit": null,
            "grid_auto_columns": null,
            "margin": null,
            "display": null,
            "left": null
          }
        }
      }
    }
  },
  "cells": [
    {
      "cell_type": "markdown",
      "metadata": {
        "id": "faVm2EyKbu9B"
      },
      "source": [
        "## HW4: Train a deep convolution network with PyTorch for the CIFAR10 dataset\n",
        "\n",
        "You should use:\n",
        "(A) data augmentation \n",
        "(B) trained with ADAM\n",
        "(C) dropout\n",
        "(D) L2-regularization (Extra score*)\n"
      ]
    },
    {
      "cell_type": "code",
      "metadata": {
        "id": "-vjKbQ6HcSjG"
      },
      "source": [
        "#@title Student Information\n",
        "#@markdown Enter the following info and run the cell:\n",
        "Name = \"Samin Heydarian\" #@param {type:\"string\"}\n",
        "StudentNumber =  99722058#@param {type:\"integer\"}"
      ],
      "execution_count": 1,
      "outputs": []
    },
    {
      "cell_type": "code",
      "metadata": {
        "id": "_e0f-osoYAEN"
      },
      "source": [
        "import torch\n",
        "import torchvision\n",
        "import torchvision.transforms as transforms\n",
        "\n",
        "import matplotlib.pyplot as plt\n",
        "import numpy as np\n",
        "\n",
        "import torch.nn as nn\n",
        "import torch.nn.functional as F\n",
        "\n",
        "import torch.optim as optim"
      ],
      "execution_count": 1,
      "outputs": []
    },
    {
      "cell_type": "code",
      "metadata": {
        "colab": {
          "base_uri": "https://localhost:8080/"
        },
        "id": "gyf1aneGflHm",
        "outputId": "9b5a8107-445c-4107-a6e6-5ac6774a9069"
      },
      "source": [
        "# Data augmentation\n",
        "print(\"... Data Augmentation ...\")\n",
        "\n",
        "transform_train = transforms.Compose([\n",
        "                                      transforms.RandomHorizontalFlip(p=0.5),\n",
        "                                      transforms.RandomCrop(32, padding=4),\n",
        "                                      transforms.ToTensor(),\n",
        "                                      transforms.Normalize((0.5, 0.5, 0.5), (0.5, 0.5, 0.5))\n",
        "                                        ])\n",
        "\n",
        "\n",
        "transform_test = transforms.Compose([transforms.ToTensor(),\n",
        "     transforms.Normalize((0.5, 0.5, 0.5), (0.5, 0.5, 0.5))])"
      ],
      "execution_count": 2,
      "outputs": [
        {
          "output_type": "stream",
          "text": [
            "... Data Augmentation ...\n"
          ],
          "name": "stdout"
        }
      ]
    },
    {
      "cell_type": "code",
      "metadata": {
        "colab": {
          "base_uri": "https://localhost:8080/",
          "height": 120,
          "referenced_widgets": [
            "68e0cc6f241d496089e3eac2888bc823",
            "e53a2540fbd64d5aab24f117c8012a6c",
            "d36135bf0c5542a6bd7e088ac8c1b97b",
            "1da4f38fb4344e628ac444e9d9cd6709",
            "7ace4d33a47b4a35b8f5265f8ad1fab0",
            "40dfc4ba554748749ddc642c459b0aff",
            "f1d875dd21a748538ec5868eaabc1f6d",
            "074fbe65cce24a2fa07ceab07cb6d194"
          ]
        },
        "id": "59j8PMApYIgM",
        "outputId": "9daf82ed-9a54-428c-bbd7-d938a1e86fd6"
      },
      "source": [
        "\n",
        "\n",
        "trainset = torchvision.datasets.CIFAR10(root='./data', train=True,\n",
        "                                        download=True, transform=transform_train)\n",
        "trainloader = torch.utils.data.DataLoader(trainset, batch_size=4,\n",
        "                                          shuffle=True, num_workers=2)\n",
        "\n",
        "testset = torchvision.datasets.CIFAR10(root='./data', train=False,\n",
        "                                       download=True, transform=transform_test)\n",
        "testloader = torch.utils.data.DataLoader(testset, batch_size=4,\n",
        "                                         shuffle=False, num_workers=2)\n",
        "\n",
        "classes = ('plane', 'car', 'bird', 'cat',\n",
        "           'deer', 'dog', 'frog', 'horse', 'ship', 'truck')"
      ],
      "execution_count": 3,
      "outputs": [
        {
          "output_type": "stream",
          "text": [
            "Downloading https://www.cs.toronto.edu/~kriz/cifar-10-python.tar.gz to ./data/cifar-10-python.tar.gz\n"
          ],
          "name": "stdout"
        },
        {
          "output_type": "display_data",
          "data": {
            "application/vnd.jupyter.widget-view+json": {
              "model_id": "68e0cc6f241d496089e3eac2888bc823",
              "version_minor": 0,
              "version_major": 2
            },
            "text/plain": [
              "HBox(children=(FloatProgress(value=0.0, max=170498071.0), HTML(value='')))"
            ]
          },
          "metadata": {
            "tags": []
          }
        },
        {
          "output_type": "stream",
          "text": [
            "\n",
            "Extracting ./data/cifar-10-python.tar.gz to ./data\n",
            "Files already downloaded and verified\n"
          ],
          "name": "stdout"
        }
      ]
    },
    {
      "cell_type": "code",
      "metadata": {
        "colab": {
          "base_uri": "https://localhost:8080/",
          "height": 155
        },
        "id": "ZcKhJT0qYP3z",
        "outputId": "9b022a73-eb1a-44a3-b30a-32b887097614"
      },
      "source": [
        "# functions to show an image\n",
        "def imshow(img):\n",
        "    img = img / 2 + 0.5     # unnormalize\n",
        "    npimg = img.numpy()\n",
        "    plt.imshow(np.transpose(npimg, (1, 2, 0)))\n",
        "    plt.show()\n",
        "\n",
        "\n",
        "# get some random training images\n",
        "dataiter = iter(trainloader)\n",
        "images, labels = dataiter.next()\n",
        "\n",
        "# show images\n",
        "imshow(torchvision.utils.make_grid(images))\n",
        "# print labels\n",
        "print(' '.join('%5s' % classes[labels[j]] for j in range(4)))"
      ],
      "execution_count": 4,
      "outputs": [
        {
          "output_type": "display_data",
          "data": {
            "image/png": "[encoded data removed]",
            "text/plain": [
              "<Figure size 432x288 with 1 Axes>"
            ]
          },
          "metadata": {
            "tags": [],
            "needs_background": "light"
          }
        },
        {
          "output_type": "stream",
          "text": [
            " frog   dog  deer  ship\n"
          ],
          "name": "stdout"
        }
      ]
    },
    {
      "cell_type": "code",
      "metadata": {
        "id": "m8l8huzaYUCD"
      },
      "source": [
        "# Define a Convolutional Neural Network\n",
        "class CNN(nn.Module):\n",
        "    def __init__(self):\n",
        "        super(CNN, self).__init__()\n",
        "        self.conv_layer = nn.Sequential(\n",
        "            # Conv Layer block 1\n",
        "            nn.Conv2d(in_channels=3, out_channels=32, kernel_size=3, padding=1),\n",
        "            nn.BatchNorm2d(32),\n",
        "            nn.ReLU(inplace=True),\n",
        "            nn.Conv2d(in_channels=32, out_channels=64, kernel_size=3, padding=1),\n",
        "            nn.ReLU(inplace=True),\n",
        "            nn.MaxPool2d(kernel_size=2, stride=2),\n",
        "\n",
        "            # Conv Layer block 2\n",
        "            nn.Conv2d(in_channels=64, out_channels=128, kernel_size=3, padding=1),\n",
        "            nn.BatchNorm2d(128),\n",
        "            nn.ReLU(inplace=True),\n",
        "            nn.Conv2d(in_channels=128, out_channels=128, kernel_size=3, padding=1),\n",
        "            nn.ReLU(inplace=True),\n",
        "            nn.MaxPool2d(kernel_size=2, stride=2),\n",
        "            nn.Dropout2d(p=0),\n",
        "\n",
        "            # Conv Layer block 3\n",
        "            nn.Conv2d(in_channels=128, out_channels=256, kernel_size=3, padding=1),\n",
        "            nn.BatchNorm2d(256),\n",
        "            nn.ReLU(inplace=True),\n",
        "            nn.Conv2d(in_channels=256, out_channels=256, kernel_size=3, padding=1),\n",
        "            nn.ReLU(inplace=True),\n",
        "            nn.MaxPool2d(kernel_size=2, stride=2),\n",
        "        )\n",
        "\n",
        "        self.fc_layer = nn.Sequential(\n",
        "            nn.Dropout(p=0),\n",
        "            nn.Linear(4096, 1024),\n",
        "            nn.ReLU(inplace=True),\n",
        "            nn.Linear(1024, 512),\n",
        "            nn.ReLU(inplace=True),\n",
        "            nn.Dropout(p=0),\n",
        "            nn.Linear(512, 10)\n",
        "        )\n",
        "\n",
        "    def forward(self, x):\n",
        "\n",
        "        # conv layers\n",
        "        x = self.conv_layer(x)\n",
        "        # flatten\n",
        "        x = x.view(x.size(0), -1)\n",
        "        # fc layer\n",
        "        x = self.fc_layer(x)\n",
        "        return x\n",
        "        \n",
        "net = CNN()\n",
        "if torch.cuda.is_available():\n",
        "  net = net.cuda()"
      ],
      "execution_count": 5,
      "outputs": []
    },
    {
      "cell_type": "code",
      "metadata": {
        "id": "6txmmenUYjKL"
      },
      "source": [
        "# Define a Loss function and optimizer\n",
        "criterion = nn.CrossEntropyLoss()\n",
        "if torch.cuda.is_available():\n",
        "  criterion = criterion.cuda()\n",
        "optimizer = torch.optim.Adam(net.parameters(), lr=0.0001, weight_decay = 1e-3)"
      ],
      "execution_count": 6,
      "outputs": []
    },
    {
      "cell_type": "code",
      "metadata": {
        "colab": {
          "base_uri": "https://localhost:8080/"
        },
        "id": "GwV6NmGKYsRr",
        "outputId": "80ef2ff9-cdc3-4eb3-e009-b9895f08db4a"
      },
      "source": [
        "# Train the network\n",
        "for epoch in range(10):  # loop over the dataset multiple times\n",
        "\n",
        "    running_loss = 0.0\n",
        "    for i, data in enumerate(trainloader, 0):\n",
        "        # get the inputs; data is a list of [inputs, labels]\n",
        "        inputs, labels = data\n",
        "\n",
        "        if torch.cuda.is_available():\n",
        "          inputs = inputs.cuda()\n",
        "          labels = labels.cuda()\n",
        "\n",
        "        # zero the parameter gradients\n",
        "        optimizer.zero_grad()\n",
        "\n",
        "        # forward + backward + optimize\n",
        "        outputs = net(inputs)\n",
        "        loss = criterion(outputs, labels)\n",
        "        loss.backward()\n",
        "        optimizer.step()\n",
        "\n",
        "        # print statistics\n",
        "        running_loss += loss.item()\n",
        "        if i % 2000 == 1999:    # print every 2000 mini-batches\n",
        "            print('[%d, %5d] loss: %.3f' %\n",
        "                  (epoch + 1, i + 1, running_loss / 2000))\n",
        "            running_loss = 0.0\n",
        "\n",
        "print('Finished Training')"
      ],
      "execution_count": 7,
      "outputs": [
        {
          "output_type": "stream",
          "text": [
            "[1,  2000] loss: 1.883\n",
            "[1,  4000] loss: 1.574\n",
            "[1,  6000] loss: 1.401\n",
            "[1,  8000] loss: 1.293\n",
            "[1, 10000] loss: 1.194\n",
            "[1, 12000] loss: 1.110\n",
            "[2,  2000] loss: 1.026\n",
            "[2,  4000] loss: 0.960\n",
            "[2,  6000] loss: 0.919\n",
            "[2,  8000] loss: 0.902\n",
            "[2, 10000] loss: 0.883\n",
            "[2, 12000] loss: 0.827\n",
            "[3,  2000] loss: 0.794\n",
            "[3,  4000] loss: 0.767\n",
            "[3,  6000] loss: 0.764\n",
            "[3,  8000] loss: 0.734\n",
            "[3, 10000] loss: 0.720\n",
            "[3, 12000] loss: 0.718\n",
            "[4,  2000] loss: 0.677\n",
            "[4,  4000] loss: 0.680\n",
            "[4,  6000] loss: 0.653\n",
            "[4,  8000] loss: 0.661\n",
            "[4, 10000] loss: 0.649\n",
            "[4, 12000] loss: 0.637\n",
            "[5,  2000] loss: 0.592\n",
            "[5,  4000] loss: 0.609\n",
            "[5,  6000] loss: 0.603\n",
            "[5,  8000] loss: 0.586\n",
            "[5, 10000] loss: 0.562\n",
            "[5, 12000] loss: 0.590\n",
            "[6,  2000] loss: 0.540\n",
            "[6,  4000] loss: 0.571\n",
            "[6,  6000] loss: 0.531\n",
            "[6,  8000] loss: 0.554\n",
            "[6, 10000] loss: 0.537\n",
            "[6, 12000] loss: 0.545\n",
            "[7,  2000] loss: 0.525\n",
            "[7,  4000] loss: 0.495\n",
            "[7,  6000] loss: 0.500\n",
            "[7,  8000] loss: 0.523\n",
            "[7, 10000] loss: 0.517\n",
            "[7, 12000] loss: 0.506\n",
            "[8,  2000] loss: 0.483\n",
            "[8,  4000] loss: 0.473\n",
            "[8,  6000] loss: 0.490\n",
            "[8,  8000] loss: 0.494\n",
            "[8, 10000] loss: 0.478\n",
            "[8, 12000] loss: 0.480\n",
            "[9,  2000] loss: 0.456\n",
            "[9,  4000] loss: 0.460\n",
            "[9,  6000] loss: 0.465\n",
            "[9,  8000] loss: 0.453\n",
            "[9, 10000] loss: 0.468\n",
            "[9, 12000] loss: 0.463\n",
            "[10,  2000] loss: 0.426\n",
            "[10,  4000] loss: 0.434\n",
            "[10,  6000] loss: 0.439\n",
            "[10,  8000] loss: 0.437\n",
            "[10, 10000] loss: 0.442\n",
            "[10, 12000] loss: 0.446\n",
            "Finished Training\n"
          ],
          "name": "stdout"
        }
      ]
    },
    {
      "cell_type": "code",
      "metadata": {
        "id": "kGA37FDgY9XT"
      },
      "source": [
        "PATH = './cifar_net.pth'\n",
        "torch.save(net.state_dict(), PATH)"
      ],
      "execution_count": 8,
      "outputs": []
    },
    {
      "cell_type": "code",
      "metadata": {
        "colab": {
          "base_uri": "https://localhost:8080/",
          "height": 155
        },
        "id": "vhgBaIDXZA8D",
        "outputId": "184e5446-955d-42ff-9497-a57c9f82c627"
      },
      "source": [
        "# Test the network on the test data\n",
        "dataiter = iter(testloader)\n",
        "images, labels = dataiter.next()\n",
        "\n",
        "# print images\n",
        "imshow(torchvision.utils.make_grid(images))\n",
        "print('GroundTruth: ', ' '.join('%5s' % classes[labels[j]] for j in range(4)))"
      ],
      "execution_count": 9,
      "outputs": [
        {
          "output_type": "display_data",
          "data": {
            "image/png": "[encoded data removed]",
            "text/plain": [
              "<Figure size 432x288 with 1 Axes>"
            ]
          },
          "metadata": {
            "tags": [],
            "needs_background": "light"
          }
        },
        {
          "output_type": "stream",
          "text": [
            "GroundTruth:    cat  ship  ship plane\n"
          ],
          "name": "stdout"
        }
      ]
    },
    {
      "cell_type": "code",
      "metadata": {
        "colab": {
          "base_uri": "https://localhost:8080/"
        },
        "id": "oWsADbH-ZNYl",
        "outputId": "3927d942-020d-460b-bc86-f9567affac30"
      },
      "source": [
        "#net = Net()\n",
        "net.load_state_dict(torch.load(PATH))"
      ],
      "execution_count": 10,
      "outputs": [
        {
          "output_type": "execute_result",
          "data": {
            "text/plain": [
              "<All keys matched successfully>"
            ]
          },
          "metadata": {
            "tags": []
          },
          "execution_count": 10
        }
      ]
    },
    {
      "cell_type": "code",
      "metadata": {
        "colab": {
          "base_uri": "https://localhost:8080/"
        },
        "id": "OlTwCwfGZQ1E",
        "outputId": "d8390f5b-a824-48b0-c2f3-651b08d69c81"
      },
      "source": [
        "_, predicted = torch.max(outputs, 1)\n",
        "\n",
        "print('Predicted: ', ' '.join('%5s' % classes[predicted[j]]\n",
        "                              for j in range(4)))"
      ],
      "execution_count": 11,
      "outputs": [
        {
          "output_type": "stream",
          "text": [
            "Predicted:   ship   cat plane truck\n"
          ],
          "name": "stdout"
        }
      ]
    },
    {
      "cell_type": "code",
      "metadata": {
        "colab": {
          "base_uri": "https://localhost:8080/"
        },
        "id": "m1IW2GR0ZUaE",
        "outputId": "4f8261d9-d505-4758-9050-e9b911278120"
      },
      "source": [
        "correct = 0\n",
        "total = 0\n",
        "confusion_matrix = torch.zeros(len(classes), len(classes))\n",
        "with torch.no_grad():\n",
        "    for data in testloader:\n",
        "        images, labels = data\n",
        "\n",
        "        if torch.cuda.is_available():\n",
        "          images = images.cuda()\n",
        "          labels = labels.cuda()\n",
        "        outputs = net(images)\n",
        "        _, predicted = torch.max(outputs.data, 1)\n",
        "        total += labels.size(0)\n",
        "        correct += (predicted == labels).sum().item()\n",
        "\n",
        "\n",
        "        for t, p in zip(labels.view(-1), predicted.view(-1)):\n",
        "          confusion_matrix[t.long(), p.long()] += 1\n",
        "\n",
        "print('Accuracy of the network on the 10000 test images: %d %%' % (\n",
        "    100 * correct / total))"
      ],
      "execution_count": 12,
      "outputs": [
        {
          "output_type": "stream",
          "text": [
            "Accuracy of the network on the 10000 test images: 83 %\n"
          ],
          "name": "stdout"
        }
      ]
    },
    {
      "cell_type": "code",
      "metadata": {
        "id": "xN7iQ2mFl1e3"
      },
      "source": [
        "classes = ('plane',\n",
        "           'car',\n",
        "           'bird',\n",
        "           'cat',\n",
        "           'deer',\n",
        "           'dog',\n",
        "           'frog',\n",
        "           'horse',\n",
        "           'ship',\n",
        "           'truck')"
      ],
      "execution_count": 13,
      "outputs": []
    },
    {
      "cell_type": "code",
      "metadata": {
        "colab": {
          "base_uri": "https://localhost:8080/"
        },
        "id": "1gEV70eKiG-1",
        "outputId": "2cedc9f4-3e5e-4034-daa4-b5fc8a00c7d5"
      },
      "source": [
        "print(confusion_matrix)"
      ],
      "execution_count": 14,
      "outputs": [
        {
          "output_type": "stream",
          "text": [
            "tensor([[804.,   7.,  53.,   7.,   4.,   0.,   4.,   6., 105.,  10.],\n",
            "        [  5., 896.,   0.,   1.,   0.,   2.,   3.,   3.,  29.,  61.],\n",
            "        [ 51.,   1., 805.,  23.,  14.,  34.,  40.,  18.,  11.,   3.],\n",
            "        [ 17.,   0.,  69., 653.,  23., 122.,  47.,  34.,  25.,  10.],\n",
            "        [ 10.,   1.,  55.,  30., 773.,  26.,  28.,  66.,   8.,   3.],\n",
            "        [  9.,   0.,  64.,  73.,   9., 789.,   5.,  39.,  10.,   2.],\n",
            "        [  8.,   0.,  54.,  15.,  10.,  22., 871.,  10.,   7.,   3.],\n",
            "        [ 11.,   0.,  30.,   9.,   9.,  25.,   2., 904.,   4.,   6.],\n",
            "        [ 23.,   7.,   8.,   1.,   0.,   2.,   4.,   0., 949.,   6.],\n",
            "        [ 15.,  19.,   2.,   4.,   0.,   1.,   3.,   6.,  32., 918.]])\n"
          ],
          "name": "stdout"
        }
      ]
    },
    {
      "cell_type": "code",
      "metadata": {
        "colab": {
          "base_uri": "https://localhost:8080/"
        },
        "id": "Nw64P6XZeepb",
        "outputId": "b8c2883c-1005-4ff6-9920-bcad8e727657"
      },
      "source": [
        "correct = 0\n",
        "total = 0\n",
        "with torch.no_grad():\n",
        "    for data in trainloader:\n",
        "        images, labels = data\n",
        "\n",
        "        if torch.cuda.is_available():\n",
        "          images = images.cuda()\n",
        "          labels = labels.cuda()\n",
        "        outputs = net(images)\n",
        "        _, predicted = torch.max(outputs.data, 1)\n",
        "        total += labels.size(0)\n",
        "        correct += (predicted == labels).sum().item()\n",
        "\n",
        "print('Accuracy of the network on the 50000 train images: %d %%' % (\n",
        "    100 * correct / total))"
      ],
      "execution_count": 15,
      "outputs": [
        {
          "output_type": "stream",
          "text": [
            "Accuracy of the network on the 50000 train images: 85 %\n"
          ],
          "name": "stdout"
        }
      ]
    },
    {
      "cell_type": "code",
      "metadata": {
        "colab": {
          "base_uri": "https://localhost:8080/"
        },
        "id": "DhejvKRIZeSj",
        "outputId": "ef946652-e6d1-42c6-c0f3-9127d4e6980a"
      },
      "source": [
        "class_correct = list(0. for i in range(10))\n",
        "class_total = list(0. for i in range(10))\n",
        "with torch.no_grad():\n",
        "    for data in testloader:\n",
        "        images, labels = data\n",
        "\n",
        "        if torch.cuda.is_available():\n",
        "          images = images.cuda()\n",
        "          labels = labels.cuda()\n",
        "        outputs = net(images)\n",
        "        \n",
        "        _, predicted = torch.max(outputs, 1)\n",
        "        c = (predicted == labels).squeeze()\n",
        "        for i in range(4):\n",
        "            label = labels[i]\n",
        "            class_correct[label] += c[i].item()\n",
        "            class_total[label] += 1\n",
        "\n",
        "\n",
        "for i in range(10):\n",
        "    print('Accuracy of %5s : %2d %%' % (\n",
        "        classes[i], 100 * class_correct[i] / class_total[i]))"
      ],
      "execution_count": 16,
      "outputs": [
        {
          "output_type": "stream",
          "text": [
            "Accuracy of plane : 80 %\n",
            "Accuracy of   car : 89 %\n",
            "Accuracy of  bird : 80 %\n",
            "Accuracy of   cat : 65 %\n",
            "Accuracy of  deer : 77 %\n",
            "Accuracy of   dog : 78 %\n",
            "Accuracy of  frog : 87 %\n",
            "Accuracy of horse : 90 %\n",
            "Accuracy of  ship : 94 %\n",
            "Accuracy of truck : 91 %\n"
          ],
          "name": "stdout"
        }
      ]
    }
  ]
}