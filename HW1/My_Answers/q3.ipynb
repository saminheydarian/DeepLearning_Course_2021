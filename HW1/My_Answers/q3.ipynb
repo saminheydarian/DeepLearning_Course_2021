{
  "nbformat": 4,
  "nbformat_minor": 0,
  "metadata": {
    "colab": {
      "name": "q3.ipynb",
      "provenance": [],
      "collapsed_sections": [],
      "toc_visible": true
    },
    "kernelspec": {
      "name": "python3",
      "display_name": "Python 3"
    }
  },
  "cells": [
    {
      "cell_type": "code",
      "metadata": {
        "colab": {
          "base_uri": "https://localhost:8080/"
        },
        "id": "b1KaV6V_3FbD",
        "outputId": "c12a3c0e-e0a3-40fb-c7f5-94094f27a29d"
      },
      "source": [
        "from google.colab import drive\r\n",
        "drive.mount('/content/drive')"
      ],
      "execution_count": 1,
      "outputs": [
        {
          "output_type": "stream",
          "text": [
            "Drive already mounted at /content/drive; to attempt to forcibly remount, call drive.mount(\"/content/drive\", force_remount=True).\n"
          ],
          "name": "stdout"
        }
      ]
    },
    {
      "cell_type": "code",
      "metadata": {
        "id": "-6r6CKx-5pNa"
      },
      "source": [
        "import os\r\n",
        "os.chdir('/content/drive/MyDrive/deep_learning')"
      ],
      "execution_count": 2,
      "outputs": []
    },
    {
      "cell_type": "code",
      "metadata": {
        "id": "Dt-Unmz0588N"
      },
      "source": [
        "feature_name = ['class', 'cap-shape', 'cap-surface', 'cap-color', 'bruises', 'odor', 'gill-attachment', 'gill-spacing'\r\n",
        "              , 'gill-size', 'gill-color', 'stalk-shape', 'stalk-root', 'stalk-surface-above-ring', 'stalk-surface-below-ring'\r\n",
        "              , 'stalk-color-above-ring', 'stalk-color-below-ring', 'veil-type', 'veil-color', 'ring-number', 'ring-type'\r\n",
        "              , 'spore-print-color', 'population', 'habitat']"
      ],
      "execution_count": 3,
      "outputs": []
    },
    {
      "cell_type": "code",
      "metadata": {
        "id": "EtYAbrmi53bW"
      },
      "source": [
        "import pandas as pd\r\n",
        "df = pd.read_csv('agaricus-lepiota.data', sep=\",\", header=None, names=feature_name)"
      ],
      "execution_count": 4,
      "outputs": []
    },
    {
      "cell_type": "code",
      "metadata": {
        "colab": {
          "base_uri": "https://localhost:8080/",
          "height": 327
        },
        "id": "FMlLfsYI7nSJ",
        "outputId": "85015295-b615-429b-f509-50a0655c2a7f"
      },
      "source": [
        "df.head(7)"
      ],
      "execution_count": 5,
      "outputs": [
        {
          "output_type": "execute_result",
          "data": {
            "text/html": [
              "<div>\n",
              "<style scoped>\n",
              "    .dataframe tbody tr th:only-of-type {\n",
              "        vertical-align: middle;\n",
              "    }\n",
              "\n",
              "    .dataframe tbody tr th {\n",
              "        vertical-align: top;\n",
              "    }\n",
              "\n",
              "    .dataframe thead th {\n",
              "        text-align: right;\n",
              "    }\n",
              "</style>\n",
              "<table border=\"1\" class=\"dataframe\">\n",
              "  <thead>\n",
              "    <tr style=\"text-align: right;\">\n",
              "      <th></th>\n",
              "      <th>class</th>\n",
              "      <th>cap-shape</th>\n",
              "      <th>cap-surface</th>\n",
              "      <th>cap-color</th>\n",
              "      <th>bruises</th>\n",
              "      <th>odor</th>\n",
              "      <th>gill-attachment</th>\n",
              "      <th>gill-spacing</th>\n",
              "      <th>gill-size</th>\n",
              "      <th>gill-color</th>\n",
              "      <th>stalk-shape</th>\n",
              "      <th>stalk-root</th>\n",
              "      <th>stalk-surface-above-ring</th>\n",
              "      <th>stalk-surface-below-ring</th>\n",
              "      <th>stalk-color-above-ring</th>\n",
              "      <th>stalk-color-below-ring</th>\n",
              "      <th>veil-type</th>\n",
              "      <th>veil-color</th>\n",
              "      <th>ring-number</th>\n",
              "      <th>ring-type</th>\n",
              "      <th>spore-print-color</th>\n",
              "      <th>population</th>\n",
              "      <th>habitat</th>\n",
              "    </tr>\n",
              "  </thead>\n",
              "  <tbody>\n",
              "    <tr>\n",
              "      <th>0</th>\n",
              "      <td>p</td>\n",
              "      <td>x</td>\n",
              "      <td>s</td>\n",
              "      <td>n</td>\n",
              "      <td>t</td>\n",
              "      <td>p</td>\n",
              "      <td>f</td>\n",
              "      <td>c</td>\n",
              "      <td>n</td>\n",
              "      <td>k</td>\n",
              "      <td>e</td>\n",
              "      <td>e</td>\n",
              "      <td>s</td>\n",
              "      <td>s</td>\n",
              "      <td>w</td>\n",
              "      <td>w</td>\n",
              "      <td>p</td>\n",
              "      <td>w</td>\n",
              "      <td>o</td>\n",
              "      <td>p</td>\n",
              "      <td>k</td>\n",
              "      <td>s</td>\n",
              "      <td>u</td>\n",
              "    </tr>\n",
              "    <tr>\n",
              "      <th>1</th>\n",
              "      <td>e</td>\n",
              "      <td>x</td>\n",
              "      <td>s</td>\n",
              "      <td>y</td>\n",
              "      <td>t</td>\n",
              "      <td>a</td>\n",
              "      <td>f</td>\n",
              "      <td>c</td>\n",
              "      <td>b</td>\n",
              "      <td>k</td>\n",
              "      <td>e</td>\n",
              "      <td>c</td>\n",
              "      <td>s</td>\n",
              "      <td>s</td>\n",
              "      <td>w</td>\n",
              "      <td>w</td>\n",
              "      <td>p</td>\n",
              "      <td>w</td>\n",
              "      <td>o</td>\n",
              "      <td>p</td>\n",
              "      <td>n</td>\n",
              "      <td>n</td>\n",
              "      <td>g</td>\n",
              "    </tr>\n",
              "    <tr>\n",
              "      <th>2</th>\n",
              "      <td>e</td>\n",
              "      <td>b</td>\n",
              "      <td>s</td>\n",
              "      <td>w</td>\n",
              "      <td>t</td>\n",
              "      <td>l</td>\n",
              "      <td>f</td>\n",
              "      <td>c</td>\n",
              "      <td>b</td>\n",
              "      <td>n</td>\n",
              "      <td>e</td>\n",
              "      <td>c</td>\n",
              "      <td>s</td>\n",
              "      <td>s</td>\n",
              "      <td>w</td>\n",
              "      <td>w</td>\n",
              "      <td>p</td>\n",
              "      <td>w</td>\n",
              "      <td>o</td>\n",
              "      <td>p</td>\n",
              "      <td>n</td>\n",
              "      <td>n</td>\n",
              "      <td>m</td>\n",
              "    </tr>\n",
              "    <tr>\n",
              "      <th>3</th>\n",
              "      <td>p</td>\n",
              "      <td>x</td>\n",
              "      <td>y</td>\n",
              "      <td>w</td>\n",
              "      <td>t</td>\n",
              "      <td>p</td>\n",
              "      <td>f</td>\n",
              "      <td>c</td>\n",
              "      <td>n</td>\n",
              "      <td>n</td>\n",
              "      <td>e</td>\n",
              "      <td>e</td>\n",
              "      <td>s</td>\n",
              "      <td>s</td>\n",
              "      <td>w</td>\n",
              "      <td>w</td>\n",
              "      <td>p</td>\n",
              "      <td>w</td>\n",
              "      <td>o</td>\n",
              "      <td>p</td>\n",
              "      <td>k</td>\n",
              "      <td>s</td>\n",
              "      <td>u</td>\n",
              "    </tr>\n",
              "    <tr>\n",
              "      <th>4</th>\n",
              "      <td>e</td>\n",
              "      <td>x</td>\n",
              "      <td>s</td>\n",
              "      <td>g</td>\n",
              "      <td>f</td>\n",
              "      <td>n</td>\n",
              "      <td>f</td>\n",
              "      <td>w</td>\n",
              "      <td>b</td>\n",
              "      <td>k</td>\n",
              "      <td>t</td>\n",
              "      <td>e</td>\n",
              "      <td>s</td>\n",
              "      <td>s</td>\n",
              "      <td>w</td>\n",
              "      <td>w</td>\n",
              "      <td>p</td>\n",
              "      <td>w</td>\n",
              "      <td>o</td>\n",
              "      <td>e</td>\n",
              "      <td>n</td>\n",
              "      <td>a</td>\n",
              "      <td>g</td>\n",
              "    </tr>\n",
              "    <tr>\n",
              "      <th>5</th>\n",
              "      <td>e</td>\n",
              "      <td>x</td>\n",
              "      <td>y</td>\n",
              "      <td>y</td>\n",
              "      <td>t</td>\n",
              "      <td>a</td>\n",
              "      <td>f</td>\n",
              "      <td>c</td>\n",
              "      <td>b</td>\n",
              "      <td>n</td>\n",
              "      <td>e</td>\n",
              "      <td>c</td>\n",
              "      <td>s</td>\n",
              "      <td>s</td>\n",
              "      <td>w</td>\n",
              "      <td>w</td>\n",
              "      <td>p</td>\n",
              "      <td>w</td>\n",
              "      <td>o</td>\n",
              "      <td>p</td>\n",
              "      <td>k</td>\n",
              "      <td>n</td>\n",
              "      <td>g</td>\n",
              "    </tr>\n",
              "    <tr>\n",
              "      <th>6</th>\n",
              "      <td>e</td>\n",
              "      <td>b</td>\n",
              "      <td>s</td>\n",
              "      <td>w</td>\n",
              "      <td>t</td>\n",
              "      <td>a</td>\n",
              "      <td>f</td>\n",
              "      <td>c</td>\n",
              "      <td>b</td>\n",
              "      <td>g</td>\n",
              "      <td>e</td>\n",
              "      <td>c</td>\n",
              "      <td>s</td>\n",
              "      <td>s</td>\n",
              "      <td>w</td>\n",
              "      <td>w</td>\n",
              "      <td>p</td>\n",
              "      <td>w</td>\n",
              "      <td>o</td>\n",
              "      <td>p</td>\n",
              "      <td>k</td>\n",
              "      <td>n</td>\n",
              "      <td>m</td>\n",
              "    </tr>\n",
              "  </tbody>\n",
              "</table>\n",
              "</div>"
            ],
            "text/plain": [
              "  class cap-shape cap-surface  ... spore-print-color population habitat\n",
              "0     p         x           s  ...                 k          s       u\n",
              "1     e         x           s  ...                 n          n       g\n",
              "2     e         b           s  ...                 n          n       m\n",
              "3     p         x           y  ...                 k          s       u\n",
              "4     e         x           s  ...                 n          a       g\n",
              "5     e         x           y  ...                 k          n       g\n",
              "6     e         b           s  ...                 k          n       m\n",
              "\n",
              "[7 rows x 23 columns]"
            ]
          },
          "metadata": {
            "tags": []
          },
          "execution_count": 5
        }
      ]
    },
    {
      "cell_type": "code",
      "metadata": {
        "colab": {
          "base_uri": "https://localhost:8080/"
        },
        "id": "ZjlVSFz6lsAk",
        "outputId": "11ff7110-865d-42ee-908d-47c8cf4677d1"
      },
      "source": [
        "df.info()"
      ],
      "execution_count": 6,
      "outputs": [
        {
          "output_type": "stream",
          "text": [
            "<class 'pandas.core.frame.DataFrame'>\n",
            "RangeIndex: 8124 entries, 0 to 8123\n",
            "Data columns (total 23 columns):\n",
            " #   Column                    Non-Null Count  Dtype \n",
            "---  ------                    --------------  ----- \n",
            " 0   class                     8124 non-null   object\n",
            " 1   cap-shape                 8124 non-null   object\n",
            " 2   cap-surface               8124 non-null   object\n",
            " 3   cap-color                 8124 non-null   object\n",
            " 4   bruises                   8124 non-null   object\n",
            " 5   odor                      8124 non-null   object\n",
            " 6   gill-attachment           8124 non-null   object\n",
            " 7   gill-spacing              8124 non-null   object\n",
            " 8   gill-size                 8124 non-null   object\n",
            " 9   gill-color                8124 non-null   object\n",
            " 10  stalk-shape               8124 non-null   object\n",
            " 11  stalk-root                8124 non-null   object\n",
            " 12  stalk-surface-above-ring  8124 non-null   object\n",
            " 13  stalk-surface-below-ring  8124 non-null   object\n",
            " 14  stalk-color-above-ring    8124 non-null   object\n",
            " 15  stalk-color-below-ring    8124 non-null   object\n",
            " 16  veil-type                 8124 non-null   object\n",
            " 17  veil-color                8124 non-null   object\n",
            " 18  ring-number               8124 non-null   object\n",
            " 19  ring-type                 8124 non-null   object\n",
            " 20  spore-print-color         8124 non-null   object\n",
            " 21  population                8124 non-null   object\n",
            " 22  habitat                   8124 non-null   object\n",
            "dtypes: object(23)\n",
            "memory usage: 1.4+ MB\n"
          ],
          "name": "stdout"
        }
      ]
    },
    {
      "cell_type": "code",
      "metadata": {
        "colab": {
          "base_uri": "https://localhost:8080/"
        },
        "id": "ERR30U8HmlGK",
        "outputId": "5686572a-2c54-48b0-f428-b0e719c837b0"
      },
      "source": [
        "df['class'].value_counts()"
      ],
      "execution_count": 7,
      "outputs": [
        {
          "output_type": "execute_result",
          "data": {
            "text/plain": [
              "e    4208\n",
              "p    3916\n",
              "Name: class, dtype: int64"
            ]
          },
          "metadata": {
            "tags": []
          },
          "execution_count": 7
        }
      ]
    },
    {
      "cell_type": "code",
      "metadata": {
        "colab": {
          "base_uri": "https://localhost:8080/"
        },
        "id": "EoN8TaPCbQrI",
        "outputId": "53da37f8-d7a9-417a-9700-6b80b43c15fa"
      },
      "source": [
        "for col in df:\r\n",
        "    print(\"{} = {}\".format(col, df[col].unique()))"
      ],
      "execution_count": 8,
      "outputs": [
        {
          "output_type": "stream",
          "text": [
            "class = ['p' 'e']\n",
            "cap-shape = ['x' 'b' 's' 'f' 'k' 'c']\n",
            "cap-surface = ['s' 'y' 'f' 'g']\n",
            "cap-color = ['n' 'y' 'w' 'g' 'e' 'p' 'b' 'u' 'c' 'r']\n",
            "bruises = ['t' 'f']\n",
            "odor = ['p' 'a' 'l' 'n' 'f' 'c' 'y' 's' 'm']\n",
            "gill-attachment = ['f' 'a']\n",
            "gill-spacing = ['c' 'w']\n",
            "gill-size = ['n' 'b']\n",
            "gill-color = ['k' 'n' 'g' 'p' 'w' 'h' 'u' 'e' 'b' 'r' 'y' 'o']\n",
            "stalk-shape = ['e' 't']\n",
            "stalk-root = ['e' 'c' 'b' 'r' '?']\n",
            "stalk-surface-above-ring = ['s' 'f' 'k' 'y']\n",
            "stalk-surface-below-ring = ['s' 'f' 'y' 'k']\n",
            "stalk-color-above-ring = ['w' 'g' 'p' 'n' 'b' 'e' 'o' 'c' 'y']\n",
            "stalk-color-below-ring = ['w' 'p' 'g' 'b' 'n' 'e' 'y' 'o' 'c']\n",
            "veil-type = ['p']\n",
            "veil-color = ['w' 'n' 'o' 'y']\n",
            "ring-number = ['o' 't' 'n']\n",
            "ring-type = ['p' 'e' 'l' 'f' 'n']\n",
            "spore-print-color = ['k' 'n' 'u' 'h' 'w' 'r' 'o' 'y' 'b']\n",
            "population = ['s' 'n' 'a' 'v' 'y' 'c']\n",
            "habitat = ['u' 'g' 'm' 'd' 'p' 'w' 'l']\n"
          ],
          "name": "stdout"
        }
      ]
    },
    {
      "cell_type": "code",
      "metadata": {
        "colab": {
          "base_uri": "https://localhost:8080/"
        },
        "id": "DBkabDg_dxFO",
        "outputId": "51b1a045-486e-4d00-d0fb-fde0bf455a1f"
      },
      "source": [
        "df.dtypes"
      ],
      "execution_count": 9,
      "outputs": [
        {
          "output_type": "execute_result",
          "data": {
            "text/plain": [
              "class                       object\n",
              "cap-shape                   object\n",
              "cap-surface                 object\n",
              "cap-color                   object\n",
              "bruises                     object\n",
              "odor                        object\n",
              "gill-attachment             object\n",
              "gill-spacing                object\n",
              "gill-size                   object\n",
              "gill-color                  object\n",
              "stalk-shape                 object\n",
              "stalk-root                  object\n",
              "stalk-surface-above-ring    object\n",
              "stalk-surface-below-ring    object\n",
              "stalk-color-above-ring      object\n",
              "stalk-color-below-ring      object\n",
              "veil-type                   object\n",
              "veil-color                  object\n",
              "ring-number                 object\n",
              "ring-type                   object\n",
              "spore-print-color           object\n",
              "population                  object\n",
              "habitat                     object\n",
              "dtype: object"
            ]
          },
          "metadata": {
            "tags": []
          },
          "execution_count": 9
        }
      ]
    },
    {
      "cell_type": "code",
      "metadata": {
        "id": "mRSfqUTtb4lh"
      },
      "source": [
        "# delet qustion mark in stalk-root feature\r\n",
        "\r\n",
        "def impute_question_most_frequent_category(DataFrame,ColName):\r\n",
        "  # .mode()[0] - gives first category name\r\n",
        "    most_frequent_category=DataFrame[ColName].mode()[0]\r\n",
        "\r\n",
        "  # replace nan values with most occured category\r\n",
        "    NewColName = ColName + \"_Imputed\"\r\n",
        "    DataFrame[NewColName] = DataFrame[ColName]\r\n",
        "    DataFrame[NewColName] = DataFrame[NewColName].map({'?':most_frequent_category, 'e':'e', 'c':'c', 'b':'b', 'r':'r'})\r\n",
        "\r\n",
        "\r\n",
        "impute_question_most_frequent_category(df,'stalk-root')"
      ],
      "execution_count": 10,
      "outputs": []
    },
    {
      "cell_type": "code",
      "metadata": {
        "colab": {
          "base_uri": "https://localhost:8080/",
          "height": 267
        },
        "id": "hK_GS9NwjaO0",
        "outputId": "bb6229c0-d40c-47d3-b4af-8bce52d4a3d7"
      },
      "source": [
        "df.head(5)"
      ],
      "execution_count": 11,
      "outputs": [
        {
          "output_type": "execute_result",
          "data": {
            "text/html": [
              "<div>\n",
              "<style scoped>\n",
              "    .dataframe tbody tr th:only-of-type {\n",
              "        vertical-align: middle;\n",
              "    }\n",
              "\n",
              "    .dataframe tbody tr th {\n",
              "        vertical-align: top;\n",
              "    }\n",
              "\n",
              "    .dataframe thead th {\n",
              "        text-align: right;\n",
              "    }\n",
              "</style>\n",
              "<table border=\"1\" class=\"dataframe\">\n",
              "  <thead>\n",
              "    <tr style=\"text-align: right;\">\n",
              "      <th></th>\n",
              "      <th>class</th>\n",
              "      <th>cap-shape</th>\n",
              "      <th>cap-surface</th>\n",
              "      <th>cap-color</th>\n",
              "      <th>bruises</th>\n",
              "      <th>odor</th>\n",
              "      <th>gill-attachment</th>\n",
              "      <th>gill-spacing</th>\n",
              "      <th>gill-size</th>\n",
              "      <th>gill-color</th>\n",
              "      <th>stalk-shape</th>\n",
              "      <th>stalk-root</th>\n",
              "      <th>stalk-surface-above-ring</th>\n",
              "      <th>stalk-surface-below-ring</th>\n",
              "      <th>stalk-color-above-ring</th>\n",
              "      <th>stalk-color-below-ring</th>\n",
              "      <th>veil-type</th>\n",
              "      <th>veil-color</th>\n",
              "      <th>ring-number</th>\n",
              "      <th>ring-type</th>\n",
              "      <th>spore-print-color</th>\n",
              "      <th>population</th>\n",
              "      <th>habitat</th>\n",
              "      <th>stalk-root_Imputed</th>\n",
              "    </tr>\n",
              "  </thead>\n",
              "  <tbody>\n",
              "    <tr>\n",
              "      <th>0</th>\n",
              "      <td>p</td>\n",
              "      <td>x</td>\n",
              "      <td>s</td>\n",
              "      <td>n</td>\n",
              "      <td>t</td>\n",
              "      <td>p</td>\n",
              "      <td>f</td>\n",
              "      <td>c</td>\n",
              "      <td>n</td>\n",
              "      <td>k</td>\n",
              "      <td>e</td>\n",
              "      <td>e</td>\n",
              "      <td>s</td>\n",
              "      <td>s</td>\n",
              "      <td>w</td>\n",
              "      <td>w</td>\n",
              "      <td>p</td>\n",
              "      <td>w</td>\n",
              "      <td>o</td>\n",
              "      <td>p</td>\n",
              "      <td>k</td>\n",
              "      <td>s</td>\n",
              "      <td>u</td>\n",
              "      <td>e</td>\n",
              "    </tr>\n",
              "    <tr>\n",
              "      <th>1</th>\n",
              "      <td>e</td>\n",
              "      <td>x</td>\n",
              "      <td>s</td>\n",
              "      <td>y</td>\n",
              "      <td>t</td>\n",
              "      <td>a</td>\n",
              "      <td>f</td>\n",
              "      <td>c</td>\n",
              "      <td>b</td>\n",
              "      <td>k</td>\n",
              "      <td>e</td>\n",
              "      <td>c</td>\n",
              "      <td>s</td>\n",
              "      <td>s</td>\n",
              "      <td>w</td>\n",
              "      <td>w</td>\n",
              "      <td>p</td>\n",
              "      <td>w</td>\n",
              "      <td>o</td>\n",
              "      <td>p</td>\n",
              "      <td>n</td>\n",
              "      <td>n</td>\n",
              "      <td>g</td>\n",
              "      <td>c</td>\n",
              "    </tr>\n",
              "    <tr>\n",
              "      <th>2</th>\n",
              "      <td>e</td>\n",
              "      <td>b</td>\n",
              "      <td>s</td>\n",
              "      <td>w</td>\n",
              "      <td>t</td>\n",
              "      <td>l</td>\n",
              "      <td>f</td>\n",
              "      <td>c</td>\n",
              "      <td>b</td>\n",
              "      <td>n</td>\n",
              "      <td>e</td>\n",
              "      <td>c</td>\n",
              "      <td>s</td>\n",
              "      <td>s</td>\n",
              "      <td>w</td>\n",
              "      <td>w</td>\n",
              "      <td>p</td>\n",
              "      <td>w</td>\n",
              "      <td>o</td>\n",
              "      <td>p</td>\n",
              "      <td>n</td>\n",
              "      <td>n</td>\n",
              "      <td>m</td>\n",
              "      <td>c</td>\n",
              "    </tr>\n",
              "    <tr>\n",
              "      <th>3</th>\n",
              "      <td>p</td>\n",
              "      <td>x</td>\n",
              "      <td>y</td>\n",
              "      <td>w</td>\n",
              "      <td>t</td>\n",
              "      <td>p</td>\n",
              "      <td>f</td>\n",
              "      <td>c</td>\n",
              "      <td>n</td>\n",
              "      <td>n</td>\n",
              "      <td>e</td>\n",
              "      <td>e</td>\n",
              "      <td>s</td>\n",
              "      <td>s</td>\n",
              "      <td>w</td>\n",
              "      <td>w</td>\n",
              "      <td>p</td>\n",
              "      <td>w</td>\n",
              "      <td>o</td>\n",
              "      <td>p</td>\n",
              "      <td>k</td>\n",
              "      <td>s</td>\n",
              "      <td>u</td>\n",
              "      <td>e</td>\n",
              "    </tr>\n",
              "    <tr>\n",
              "      <th>4</th>\n",
              "      <td>e</td>\n",
              "      <td>x</td>\n",
              "      <td>s</td>\n",
              "      <td>g</td>\n",
              "      <td>f</td>\n",
              "      <td>n</td>\n",
              "      <td>f</td>\n",
              "      <td>w</td>\n",
              "      <td>b</td>\n",
              "      <td>k</td>\n",
              "      <td>t</td>\n",
              "      <td>e</td>\n",
              "      <td>s</td>\n",
              "      <td>s</td>\n",
              "      <td>w</td>\n",
              "      <td>w</td>\n",
              "      <td>p</td>\n",
              "      <td>w</td>\n",
              "      <td>o</td>\n",
              "      <td>e</td>\n",
              "      <td>n</td>\n",
              "      <td>a</td>\n",
              "      <td>g</td>\n",
              "      <td>e</td>\n",
              "    </tr>\n",
              "  </tbody>\n",
              "</table>\n",
              "</div>"
            ],
            "text/plain": [
              "  class cap-shape cap-surface  ... population habitat stalk-root_Imputed\n",
              "0     p         x           s  ...          s       u                  e\n",
              "1     e         x           s  ...          n       g                  c\n",
              "2     e         b           s  ...          n       m                  c\n",
              "3     p         x           y  ...          s       u                  e\n",
              "4     e         x           s  ...          a       g                  e\n",
              "\n",
              "[5 rows x 24 columns]"
            ]
          },
          "metadata": {
            "tags": []
          },
          "execution_count": 11
        }
      ]
    },
    {
      "cell_type": "code",
      "metadata": {
        "colab": {
          "base_uri": "https://localhost:8080/"
        },
        "id": "oYiiXcZsfCz9",
        "outputId": "580344aa-86fa-41eb-8c3c-36c4e93f140e"
      },
      "source": [
        "for col in df:\r\n",
        "    print(\"{} = {}\".format(col, df[col].unique()))"
      ],
      "execution_count": 12,
      "outputs": [
        {
          "output_type": "stream",
          "text": [
            "class = ['p' 'e']\n",
            "cap-shape = ['x' 'b' 's' 'f' 'k' 'c']\n",
            "cap-surface = ['s' 'y' 'f' 'g']\n",
            "cap-color = ['n' 'y' 'w' 'g' 'e' 'p' 'b' 'u' 'c' 'r']\n",
            "bruises = ['t' 'f']\n",
            "odor = ['p' 'a' 'l' 'n' 'f' 'c' 'y' 's' 'm']\n",
            "gill-attachment = ['f' 'a']\n",
            "gill-spacing = ['c' 'w']\n",
            "gill-size = ['n' 'b']\n",
            "gill-color = ['k' 'n' 'g' 'p' 'w' 'h' 'u' 'e' 'b' 'r' 'y' 'o']\n",
            "stalk-shape = ['e' 't']\n",
            "stalk-root = ['e' 'c' 'b' 'r' '?']\n",
            "stalk-surface-above-ring = ['s' 'f' 'k' 'y']\n",
            "stalk-surface-below-ring = ['s' 'f' 'y' 'k']\n",
            "stalk-color-above-ring = ['w' 'g' 'p' 'n' 'b' 'e' 'o' 'c' 'y']\n",
            "stalk-color-below-ring = ['w' 'p' 'g' 'b' 'n' 'e' 'y' 'o' 'c']\n",
            "veil-type = ['p']\n",
            "veil-color = ['w' 'n' 'o' 'y']\n",
            "ring-number = ['o' 't' 'n']\n",
            "ring-type = ['p' 'e' 'l' 'f' 'n']\n",
            "spore-print-color = ['k' 'n' 'u' 'h' 'w' 'r' 'o' 'y' 'b']\n",
            "population = ['s' 'n' 'a' 'v' 'y' 'c']\n",
            "habitat = ['u' 'g' 'm' 'd' 'p' 'w' 'l']\n",
            "stalk-root_Imputed = ['e' 'c' 'b' 'r']\n"
          ],
          "name": "stdout"
        }
      ]
    },
    {
      "cell_type": "code",
      "metadata": {
        "id": "ROn0ygseliR6"
      },
      "source": [
        "df = df.drop(['stalk-root'], axis = 1)"
      ],
      "execution_count": 13,
      "outputs": []
    },
    {
      "cell_type": "code",
      "metadata": {
        "id": "C_YqCyF9oXC8"
      },
      "source": [
        "#convert categorical value of ring-number to numeric value\r\n",
        "\r\n",
        "cleanup_nums = {'ring-number':{'n': 0, 'o': 1, 't':2}}\r\n",
        "df = df.replace(cleanup_nums)"
      ],
      "execution_count": 14,
      "outputs": []
    },
    {
      "cell_type": "code",
      "metadata": {
        "colab": {
          "base_uri": "https://localhost:8080/"
        },
        "id": "pdxE9wxu6oAg",
        "outputId": "008a229f-b479-4133-e343-a6c5e68c8a33"
      },
      "source": [
        "n = df.nunique(axis=0) \r\n",
        "  \r\n",
        "print(\"No.of.unique values in each column :\\n\", n)"
      ],
      "execution_count": 15,
      "outputs": [
        {
          "output_type": "stream",
          "text": [
            "No.of.unique values in each column :\n",
            " class                        2\n",
            "cap-shape                    6\n",
            "cap-surface                  4\n",
            "cap-color                   10\n",
            "bruises                      2\n",
            "odor                         9\n",
            "gill-attachment              2\n",
            "gill-spacing                 2\n",
            "gill-size                    2\n",
            "gill-color                  12\n",
            "stalk-shape                  2\n",
            "stalk-surface-above-ring     4\n",
            "stalk-surface-below-ring     4\n",
            "stalk-color-above-ring       9\n",
            "stalk-color-below-ring       9\n",
            "veil-type                    1\n",
            "veil-color                   4\n",
            "ring-number                  3\n",
            "ring-type                    5\n",
            "spore-print-color            9\n",
            "population                   6\n",
            "habitat                      7\n",
            "stalk-root_Imputed           4\n",
            "dtype: int64\n"
          ],
          "name": "stdout"
        }
      ]
    },
    {
      "cell_type": "code",
      "metadata": {
        "id": "Y50fy63ZExmj"
      },
      "source": [
        "label_encoding_df = df.copy()"
      ],
      "execution_count": 16,
      "outputs": []
    },
    {
      "cell_type": "code",
      "metadata": {
        "id": "PqE9H6FaAGk7"
      },
      "source": [
        "#label encoding for categorical feature\r\n",
        "\r\n",
        "convert_dict = {'class': 'category', 'cap-shape': 'category', 'cap-surface': 'category', 'cap-color': 'category', 'bruises': 'category', 'odor': 'category'\r\n",
        "                , 'gill-attachment': 'category', 'gill-spacing': 'category', 'gill-size': 'category', 'gill-color': 'category', 'stalk-shape': 'category'\r\n",
        "                , 'stalk-surface-above-ring': 'category', 'stalk-surface-below-ring': 'category', 'stalk-color-above-ring': 'category', 'stalk-color-below-ring': 'category',\r\n",
        "                'veil-type': 'category', 'veil-color': 'category', 'ring-type': 'category', 'spore-print-color': 'category', 'population': 'category', 'habitat': 'category',\r\n",
        "                'stalk-root_Imputed': 'category'} \r\n",
        "  \r\n",
        "label_encoding_df = label_encoding_df.astype(convert_dict) "
      ],
      "execution_count": 17,
      "outputs": []
    },
    {
      "cell_type": "code",
      "metadata": {
        "colab": {
          "base_uri": "https://localhost:8080/"
        },
        "id": "JI3n6Yn5BaTm",
        "outputId": "711f904f-f6ac-4df1-827c-1e823d036864"
      },
      "source": [
        "label_encoding_df.dtypes"
      ],
      "execution_count": 18,
      "outputs": [
        {
          "output_type": "execute_result",
          "data": {
            "text/plain": [
              "class                       category\n",
              "cap-shape                   category\n",
              "cap-surface                 category\n",
              "cap-color                   category\n",
              "bruises                     category\n",
              "odor                        category\n",
              "gill-attachment             category\n",
              "gill-spacing                category\n",
              "gill-size                   category\n",
              "gill-color                  category\n",
              "stalk-shape                 category\n",
              "stalk-surface-above-ring    category\n",
              "stalk-surface-below-ring    category\n",
              "stalk-color-above-ring      category\n",
              "stalk-color-below-ring      category\n",
              "veil-type                   category\n",
              "veil-color                  category\n",
              "ring-number                    int64\n",
              "ring-type                   category\n",
              "spore-print-color           category\n",
              "population                  category\n",
              "habitat                     category\n",
              "stalk-root_Imputed          category\n",
              "dtype: object"
            ]
          },
          "metadata": {
            "tags": []
          },
          "execution_count": 18
        }
      ]
    },
    {
      "cell_type": "code",
      "metadata": {
        "id": "9hdY8jFwFd8M"
      },
      "source": [
        "cat_columns = label_encoding_df.select_dtypes(['category']).columns\r\n",
        "label_encoding_df[cat_columns] = label_encoding_df[cat_columns].apply(lambda x: x.cat.codes)"
      ],
      "execution_count": 19,
      "outputs": []
    },
    {
      "cell_type": "code",
      "metadata": {
        "id": "XtXG2RmiR17y"
      },
      "source": [
        "label_encoding_df = label_encoding_df.astype(int) "
      ],
      "execution_count": 20,
      "outputs": []
    },
    {
      "cell_type": "code",
      "metadata": {
        "colab": {
          "base_uri": "https://localhost:8080/"
        },
        "id": "xkyRShG_FvFo",
        "outputId": "5a1686cd-a7db-406f-ea1b-26a89bdbbdf2"
      },
      "source": [
        "label_encoding_df.dtypes"
      ],
      "execution_count": 21,
      "outputs": [
        {
          "output_type": "execute_result",
          "data": {
            "text/plain": [
              "class                       int64\n",
              "cap-shape                   int64\n",
              "cap-surface                 int64\n",
              "cap-color                   int64\n",
              "bruises                     int64\n",
              "odor                        int64\n",
              "gill-attachment             int64\n",
              "gill-spacing                int64\n",
              "gill-size                   int64\n",
              "gill-color                  int64\n",
              "stalk-shape                 int64\n",
              "stalk-surface-above-ring    int64\n",
              "stalk-surface-below-ring    int64\n",
              "stalk-color-above-ring      int64\n",
              "stalk-color-below-ring      int64\n",
              "veil-type                   int64\n",
              "veil-color                  int64\n",
              "ring-number                 int64\n",
              "ring-type                   int64\n",
              "spore-print-color           int64\n",
              "population                  int64\n",
              "habitat                     int64\n",
              "stalk-root_Imputed          int64\n",
              "dtype: object"
            ]
          },
          "metadata": {
            "tags": []
          },
          "execution_count": 21
        }
      ]
    },
    {
      "cell_type": "code",
      "metadata": {
        "id": "F967A97seR03"
      },
      "source": [
        "# add a column with vlaue of 1. This will facilitate notation a.x instead of a.x + a0\r\n",
        "label_encoding_df['bias'] = 1"
      ],
      "execution_count": 22,
      "outputs": []
    },
    {
      "cell_type": "code",
      "metadata": {
        "colab": {
          "base_uri": "https://localhost:8080/",
          "height": 267
        },
        "id": "QP0iLYjnFzZD",
        "outputId": "feac4c6f-df30-4b69-eceb-b86a3990cadc"
      },
      "source": [
        "label_encoding_df.head(5)"
      ],
      "execution_count": 23,
      "outputs": [
        {
          "output_type": "execute_result",
          "data": {
            "text/html": [
              "<div>\n",
              "<style scoped>\n",
              "    .dataframe tbody tr th:only-of-type {\n",
              "        vertical-align: middle;\n",
              "    }\n",
              "\n",
              "    .dataframe tbody tr th {\n",
              "        vertical-align: top;\n",
              "    }\n",
              "\n",
              "    .dataframe thead th {\n",
              "        text-align: right;\n",
              "    }\n",
              "</style>\n",
              "<table border=\"1\" class=\"dataframe\">\n",
              "  <thead>\n",
              "    <tr style=\"text-align: right;\">\n",
              "      <th></th>\n",
              "      <th>class</th>\n",
              "      <th>cap-shape</th>\n",
              "      <th>cap-surface</th>\n",
              "      <th>cap-color</th>\n",
              "      <th>bruises</th>\n",
              "      <th>odor</th>\n",
              "      <th>gill-attachment</th>\n",
              "      <th>gill-spacing</th>\n",
              "      <th>gill-size</th>\n",
              "      <th>gill-color</th>\n",
              "      <th>stalk-shape</th>\n",
              "      <th>stalk-surface-above-ring</th>\n",
              "      <th>stalk-surface-below-ring</th>\n",
              "      <th>stalk-color-above-ring</th>\n",
              "      <th>stalk-color-below-ring</th>\n",
              "      <th>veil-type</th>\n",
              "      <th>veil-color</th>\n",
              "      <th>ring-number</th>\n",
              "      <th>ring-type</th>\n",
              "      <th>spore-print-color</th>\n",
              "      <th>population</th>\n",
              "      <th>habitat</th>\n",
              "      <th>stalk-root_Imputed</th>\n",
              "      <th>bias</th>\n",
              "    </tr>\n",
              "  </thead>\n",
              "  <tbody>\n",
              "    <tr>\n",
              "      <th>0</th>\n",
              "      <td>1</td>\n",
              "      <td>5</td>\n",
              "      <td>2</td>\n",
              "      <td>4</td>\n",
              "      <td>1</td>\n",
              "      <td>6</td>\n",
              "      <td>1</td>\n",
              "      <td>0</td>\n",
              "      <td>1</td>\n",
              "      <td>4</td>\n",
              "      <td>0</td>\n",
              "      <td>2</td>\n",
              "      <td>2</td>\n",
              "      <td>7</td>\n",
              "      <td>7</td>\n",
              "      <td>0</td>\n",
              "      <td>2</td>\n",
              "      <td>1</td>\n",
              "      <td>4</td>\n",
              "      <td>2</td>\n",
              "      <td>3</td>\n",
              "      <td>5</td>\n",
              "      <td>2</td>\n",
              "      <td>1</td>\n",
              "    </tr>\n",
              "    <tr>\n",
              "      <th>1</th>\n",
              "      <td>0</td>\n",
              "      <td>5</td>\n",
              "      <td>2</td>\n",
              "      <td>9</td>\n",
              "      <td>1</td>\n",
              "      <td>0</td>\n",
              "      <td>1</td>\n",
              "      <td>0</td>\n",
              "      <td>0</td>\n",
              "      <td>4</td>\n",
              "      <td>0</td>\n",
              "      <td>2</td>\n",
              "      <td>2</td>\n",
              "      <td>7</td>\n",
              "      <td>7</td>\n",
              "      <td>0</td>\n",
              "      <td>2</td>\n",
              "      <td>1</td>\n",
              "      <td>4</td>\n",
              "      <td>3</td>\n",
              "      <td>2</td>\n",
              "      <td>1</td>\n",
              "      <td>1</td>\n",
              "      <td>1</td>\n",
              "    </tr>\n",
              "    <tr>\n",
              "      <th>2</th>\n",
              "      <td>0</td>\n",
              "      <td>0</td>\n",
              "      <td>2</td>\n",
              "      <td>8</td>\n",
              "      <td>1</td>\n",
              "      <td>3</td>\n",
              "      <td>1</td>\n",
              "      <td>0</td>\n",
              "      <td>0</td>\n",
              "      <td>5</td>\n",
              "      <td>0</td>\n",
              "      <td>2</td>\n",
              "      <td>2</td>\n",
              "      <td>7</td>\n",
              "      <td>7</td>\n",
              "      <td>0</td>\n",
              "      <td>2</td>\n",
              "      <td>1</td>\n",
              "      <td>4</td>\n",
              "      <td>3</td>\n",
              "      <td>2</td>\n",
              "      <td>3</td>\n",
              "      <td>1</td>\n",
              "      <td>1</td>\n",
              "    </tr>\n",
              "    <tr>\n",
              "      <th>3</th>\n",
              "      <td>1</td>\n",
              "      <td>5</td>\n",
              "      <td>3</td>\n",
              "      <td>8</td>\n",
              "      <td>1</td>\n",
              "      <td>6</td>\n",
              "      <td>1</td>\n",
              "      <td>0</td>\n",
              "      <td>1</td>\n",
              "      <td>5</td>\n",
              "      <td>0</td>\n",
              "      <td>2</td>\n",
              "      <td>2</td>\n",
              "      <td>7</td>\n",
              "      <td>7</td>\n",
              "      <td>0</td>\n",
              "      <td>2</td>\n",
              "      <td>1</td>\n",
              "      <td>4</td>\n",
              "      <td>2</td>\n",
              "      <td>3</td>\n",
              "      <td>5</td>\n",
              "      <td>2</td>\n",
              "      <td>1</td>\n",
              "    </tr>\n",
              "    <tr>\n",
              "      <th>4</th>\n",
              "      <td>0</td>\n",
              "      <td>5</td>\n",
              "      <td>2</td>\n",
              "      <td>3</td>\n",
              "      <td>0</td>\n",
              "      <td>5</td>\n",
              "      <td>1</td>\n",
              "      <td>1</td>\n",
              "      <td>0</td>\n",
              "      <td>4</td>\n",
              "      <td>1</td>\n",
              "      <td>2</td>\n",
              "      <td>2</td>\n",
              "      <td>7</td>\n",
              "      <td>7</td>\n",
              "      <td>0</td>\n",
              "      <td>2</td>\n",
              "      <td>1</td>\n",
              "      <td>0</td>\n",
              "      <td>3</td>\n",
              "      <td>0</td>\n",
              "      <td>1</td>\n",
              "      <td>2</td>\n",
              "      <td>1</td>\n",
              "    </tr>\n",
              "  </tbody>\n",
              "</table>\n",
              "</div>"
            ],
            "text/plain": [
              "   class  cap-shape  cap-surface  ...  habitat  stalk-root_Imputed  bias\n",
              "0      1          5            2  ...        5                   2     1\n",
              "1      0          5            2  ...        1                   1     1\n",
              "2      0          0            2  ...        3                   1     1\n",
              "3      1          5            3  ...        5                   2     1\n",
              "4      0          5            2  ...        1                   2     1\n",
              "\n",
              "[5 rows x 24 columns]"
            ]
          },
          "metadata": {
            "tags": []
          },
          "execution_count": 23
        }
      ]
    },
    {
      "cell_type": "code",
      "metadata": {
        "id": "m2smbhcQF7wu"
      },
      "source": [
        "#functions required to build classifiers\r\n",
        "\r\n",
        "import numpy as np\r\n",
        "import math\r\n",
        "\r\n",
        "def make_diagonal(x):\r\n",
        "    \"\"\" Converts a vector into an diagonal matrix \"\"\"\r\n",
        "    m = np.zeros((len(x), len(x)))\r\n",
        "    for i in range(len(m[0])):\r\n",
        "        m[i, i] = x[i]\r\n",
        "    return m\r\n",
        "\r\n",
        "\r\n",
        "def train_test_split(X, y, test_size=0.5):\r\n",
        "    \"\"\" Split the data into train and test sets \"\"\"\r\n",
        "    # Split the training data from test data in the ratio specified in\r\n",
        "    # test_size\r\n",
        "    split_i = len(y) - int(len(y) // (1 / test_size))\r\n",
        "    X_train, X_test = X[:split_i], X[split_i:]\r\n",
        "    y_train, y_test = y[:split_i], y[split_i:]\r\n",
        "\r\n",
        "    return X_train, X_test, y_train, y_test\r\n",
        "\r\n",
        "def accuracy_score(y_true, y_pred):\r\n",
        "    \"\"\" Compare y_true to y_pred and return the accuracy \"\"\"\r\n",
        "    accuracy = np.sum(y_true == y_pred, axis=0) / len(y_true)\r\n",
        "    return accuracy"
      ],
      "execution_count": 24,
      "outputs": []
    },
    {
      "cell_type": "code",
      "metadata": {
        "id": "h0U1vKgGVoTo"
      },
      "source": [
        "class Sigmoid():\r\n",
        "    def __call__(self, x):\r\n",
        "        return 1 / (1 + np.exp(-x))\r\n",
        "\r\n",
        "    def gradient(self, x):\r\n",
        "        return self.__call__(x) * (1 - self.__call__(x))"
      ],
      "execution_count": 25,
      "outputs": []
    },
    {
      "cell_type": "markdown",
      "metadata": {
        "id": "WukzpuqpgiwR"
      },
      "source": [
        "# **Logistic Regression**"
      ]
    },
    {
      "cell_type": "code",
      "metadata": {
        "id": "2rrjzjJkNeI7"
      },
      "source": [
        "class LogisticRegression():\r\n",
        "    \"\"\" Logistic Regression classifier.\r\n",
        "    Parameters:\r\n",
        "    -----------\r\n",
        "    learning_rate: float\r\n",
        "        The step length that will be taken when following the negative gradient during\r\n",
        "        training.\r\n",
        "    gradient_descent: boolean\r\n",
        "        True or false depending if gradient descent should be used when training. If\r\n",
        "        false then we use batch optimization by least squares.\r\n",
        "    \"\"\"\r\n",
        "    def __init__(self, learning_rate=.1, gradient_descent=True):\r\n",
        "        self.param = None\r\n",
        "        self.learning_rate = learning_rate\r\n",
        "        self.gradient_descent = gradient_descent\r\n",
        "        self.sigmoid = Sigmoid()\r\n",
        "\r\n",
        "    def _initialize_parameters(self, X):\r\n",
        "        n_features = np.shape(X)[1]\r\n",
        "        self.param = np.zeros((n_features))\r\n",
        "\r\n",
        "    def fit(self, X, y, n_iterations=4000):\r\n",
        "        self._initialize_parameters(X)\r\n",
        "        # Tune parameters for n iterations\r\n",
        "        for i in range(n_iterations):\r\n",
        "            # Make a new prediction\r\n",
        "            y_pred = self.sigmoid(X.dot(self.param))\r\n",
        "            if self.gradient_descent:\r\n",
        "                # Move against the gradient of the loss function with\r\n",
        "                # respect to the parameters to minimize the loss\r\n",
        "                self.param -= self.learning_rate * -(y - y_pred).dot(X)\r\n",
        "            else:\r\n",
        "                # Make a diagonal matrix of the sigmoid gradient column vector\r\n",
        "                diag_gradient = make_diagonal(self.sigmoid.gradient(X.dot(self.param)))\r\n",
        "                # Batch opt:\r\n",
        "                self.param = np.linalg.pinv(X.T.dot(diag_gradient).dot(X)).dot(X.T).dot(diag_gradient.dot(X).dot(self.param) + y - y_pred)\r\n",
        "\r\n",
        "    def predict(self, X):\r\n",
        "        y_pred = np.round(self.sigmoid(X.dot(self.param))).astype(int)\r\n",
        "        return y_pred"
      ],
      "execution_count": 26,
      "outputs": []
    },
    {
      "cell_type": "code",
      "metadata": {
        "id": "sUX7v4nXU_6V"
      },
      "source": [
        "np.random.seed(1)\r\n",
        "np.random.shuffle(label_encoding_df.values)"
      ],
      "execution_count": 27,
      "outputs": []
    },
    {
      "cell_type": "code",
      "metadata": {
        "id": "zgW1IASCNDWL"
      },
      "source": [
        "lr_X = label_encoding_df.drop('class', axis=1)  \r\n",
        "lr_y = label_encoding_df['class']"
      ],
      "execution_count": 29,
      "outputs": []
    },
    {
      "cell_type": "code",
      "metadata": {
        "colab": {
          "base_uri": "https://localhost:8080/"
        },
        "id": "Tw53bW70M1_S",
        "outputId": "9b6926d4-e959-4640-a1a6-74584243f943"
      },
      "source": [
        "lr_X_train, lr_X_test, lr_y_train, lr_y_test = train_test_split(lr_X, lr_y, test_size=0.33)\r\n",
        "\r\n",
        "lr_clf = LogisticRegression(gradient_descent=True)\r\n",
        "lr_clf.fit(lr_X_train, lr_y_train)\r\n",
        "lr_y_pred = lr_clf.predict(lr_X_test)"
      ],
      "execution_count": 30,
      "outputs": [
        {
          "output_type": "stream",
          "text": [
            "/usr/local/lib/python3.7/dist-packages/pandas/core/series.py:726: RuntimeWarning: overflow encountered in exp\n",
            "  result = getattr(ufunc, method)(*inputs, **kwargs)\n"
          ],
          "name": "stderr"
        }
      ]
    },
    {
      "cell_type": "code",
      "metadata": {
        "colab": {
          "base_uri": "https://localhost:8080/"
        },
        "id": "UzpDeWZaNDZT",
        "outputId": "13f3c64b-5fbf-48ab-c525-55fab105b0d2"
      },
      "source": [
        "lr_accuracy = accuracy_score(lr_y_test, lr_y_pred)\r\n",
        "print (\"Logistic Regression accuracy:\", lr_accuracy)"
      ],
      "execution_count": 31,
      "outputs": [
        {
          "output_type": "stream",
          "text": [
            "Logistic Regression accuracy: 0.9037313432835821\n"
          ],
          "name": "stdout"
        }
      ]
    },
    {
      "cell_type": "code",
      "metadata": {
        "colab": {
          "base_uri": "https://localhost:8080/"
        },
        "id": "7FNwnagD_Agm",
        "outputId": "bca778cc-3159-41c7-9e75-4a6ffce1003f"
      },
      "source": [
        "from sklearn.metrics import confusion_matrix\r\n",
        "lr_cf_matrix = confusion_matrix(lr_y_test, lr_y_pred)\r\n",
        "print(lr_cf_matrix)"
      ],
      "execution_count": 32,
      "outputs": [
        {
          "output_type": "stream",
          "text": [
            "[[1229  172]\n",
            " [  86 1193]]\n"
          ],
          "name": "stdout"
        }
      ]
    },
    {
      "cell_type": "code",
      "metadata": {
        "colab": {
          "base_uri": "https://localhost:8080/",
          "height": 282
        },
        "id": "v2wd1i57_QEE",
        "outputId": "9e66a456-9114-4d9d-f807-a6a8e4eb1f7c"
      },
      "source": [
        "import seaborn as sns\r\n",
        "sns.heatmap(lr_cf_matrix, annot=True)"
      ],
      "execution_count": 33,
      "outputs": [
        {
          "output_type": "execute_result",
          "data": {
            "text/plain": [
              "<matplotlib.axes._subplots.AxesSubplot at 0x7f6794ca1390>"
            ]
          },
          "metadata": {
            "tags": []
          },
          "execution_count": 33
        },
        {
          "output_type": "display_data",
          "data": {
            "image/png": "[encoded data removed]",
            "text/plain": [
              "<Figure size 432x288 with 2 Axes>"
            ]
          },
          "metadata": {
            "tags": [],
            "needs_background": "light"
          }
        }
      ]
    },
    {
      "cell_type": "code",
      "metadata": {
        "colab": {
          "base_uri": "https://localhost:8080/"
        },
        "id": "7G3qwwamM0zs",
        "outputId": "92ce6d53-9963-4fb7-94c9-fa698d360cac"
      },
      "source": [
        "from sklearn.metrics import precision_score, recall_score, f1_score\r\n",
        "\r\n",
        "print('Micro Precision: {:.2f}'.format(precision_score(lr_y_test, lr_y_pred, average='micro')))\r\n",
        "print('Micro Recall: {:.2f}'.format(recall_score(lr_y_test, lr_y_pred, average='micro')))\r\n",
        "print('Micro F1-score: {:.2f}\\n'.format(f1_score(lr_y_test, lr_y_pred, average='micro')))\r\n",
        "\r\n",
        "print('Macro Precision: {:.2f}'.format(precision_score(lr_y_test, lr_y_pred, average='macro')))\r\n",
        "print('Macro Recall: {:.2f}'.format(recall_score(lr_y_test, lr_y_pred, average='macro')))\r\n",
        "print('Macro F1-score: {:.2f}\\n'.format(f1_score(lr_y_test, lr_y_pred, average='macro')))\r\n",
        "\r\n",
        "print('Weighted Precision: {:.2f}'.format(precision_score(lr_y_test, lr_y_pred, average='weighted')))\r\n",
        "print('Weighted Recall: {:.2f}'.format(recall_score(lr_y_test, lr_y_pred, average='weighted')))\r\n",
        "print('Weighted F1-score: {:.2f}'.format(f1_score(lr_y_test, lr_y_pred, average='weighted')))"
      ],
      "execution_count": 34,
      "outputs": [
        {
          "output_type": "stream",
          "text": [
            "Micro Precision: 0.90\n",
            "Micro Recall: 0.90\n",
            "Micro F1-score: 0.90\n",
            "\n",
            "Macro Precision: 0.90\n",
            "Macro Recall: 0.90\n",
            "Macro F1-score: 0.90\n",
            "\n",
            "Weighted Precision: 0.91\n",
            "Weighted Recall: 0.90\n",
            "Weighted F1-score: 0.90\n"
          ],
          "name": "stdout"
        }
      ]
    },
    {
      "cell_type": "markdown",
      "metadata": {
        "id": "itvXJoDGg96w"
      },
      "source": [
        "# **NaiveBayes**"
      ]
    },
    {
      "cell_type": "code",
      "metadata": {
        "id": "uFVUOGWq3hHr"
      },
      "source": [
        "class NaiveBayes():\r\n",
        "    \"\"\"The Gaussian Naive Bayes classifier. \"\"\"\r\n",
        "    def fit(self, X, y):\r\n",
        "        self.X, self.y = X, y\r\n",
        "        self.classes = np.unique(y)\r\n",
        "        self.parameters = []\r\n",
        "        # Calculate the mean and variance of each feature for each class\r\n",
        "        for i, c in enumerate(self.classes):\r\n",
        "            # Only select the rows where the label equals the given class\r\n",
        "            index =  list(y[y==c].index)\r\n",
        "            X_where_c = X.loc[index, :]\r\n",
        "\r\n",
        "            self.parameters.append([])\r\n",
        "            # Add the mean and variance for each feature (column)\r\n",
        "            for col in X_where_c:\r\n",
        "                parameters = {\"mean\": X_where_c[col].describe()['mean'], \"var\": math.pow( X_where_c[col].describe()['std'], 2)}\r\n",
        "                self.parameters[i].append(parameters)\r\n",
        "\r\n",
        "    def _calculate_likelihood(self, mean, var, feature):\r\n",
        "        \"\"\" Gaussian likelihood of the data x given mean and var \"\"\"\r\n",
        "        eps = 1e-4 # Added in denominator to prevent division by zero\r\n",
        "        coeff = 1.0 / math.sqrt(2.0 * math.pi * var + eps)\r\n",
        "        exponent = np.exp(-((feature - mean).pow(2) / (2 * var + eps)))\r\n",
        "        return coeff * exponent\r\n",
        "\r\n",
        "    def _calculate_prior(self, c):\r\n",
        "        \"\"\" Calculate the prior of class c\r\n",
        "        (samples where class == c / total number of samples)\"\"\"\r\n",
        "        frequency = np.mean(self.y == c)\r\n",
        "        return frequency\r\n",
        "\r\n",
        "    def _classify(self, X):\r\n",
        "        \"\"\" Classification using Bayes Rule P(Y|X) = P(X|Y)*P(Y)/P(X),\r\n",
        "            or Posterior = Likelihood * Prior / Scaling Factor\r\n",
        "        P(Y|X) - The posterior is the probability that sample x is of class y given the\r\n",
        "                 feature values of x being distributed according to distribution of y and the prior.\r\n",
        "        P(X|Y) - Likelihood of data X given class distribution Y.\r\n",
        "                 Gaussian distribution (given by _calculate_likelihood)\r\n",
        "        P(Y)   - Prior (given by _calculate_prior)\r\n",
        "        P(X)   - Scales the posterior to make it a proper probability distribution.\r\n",
        "                 This term is ignored in this implementation since it doesn't affect\r\n",
        "                 which class distribution the sample is most likely to belong to.\r\n",
        "        Classifies the sample as the class that results in the largest P(Y|X) (posterior)\r\n",
        "        \"\"\"\r\n",
        "        posteriors = []\r\n",
        "        # Go through list of classes\r\n",
        "        for i, c in enumerate(self.classes):\r\n",
        "            # Initialize posterior as prior\r\n",
        "            posterior = self._calculate_prior(c)\r\n",
        "            # Naive assumption (independence):\r\n",
        "            # P(x1,x2,x3|Y) = P(x1|Y)*P(x2|Y)*P(x3|Y)\r\n",
        "            # Posterior is product of prior and likelihoods (ignoring scaling factor)\r\n",
        "            for index, col in enumerate(X.columns):\r\n",
        "                # Likelihood of feature value given distribution of feature values given y\r\n",
        "                likelihood = self._calculate_likelihood(self.parameters[i][index][\"mean\"], self.parameters[i][index][\"var\"], X[col])\r\n",
        "                posterior *= likelihood\r\n",
        "                posterior_arr = posterior.to_numpy()\r\n",
        "            posteriors.append(posterior_arr)\r\n",
        "        # Return the class with the largest posterior probability\r\n",
        "        return self.classes[np.argmax(posteriors, 0)]\r\n",
        "\r\n",
        "    def predict(self, X):\r\n",
        "        \"\"\" Predict the class labels of the samples in X \"\"\"\r\n",
        "        y_pred = self._classify(X)\r\n",
        "        return y_pred"
      ],
      "execution_count": 35,
      "outputs": []
    },
    {
      "cell_type": "code",
      "metadata": {
        "id": "OwF6CcmOmBK4"
      },
      "source": [
        "label_encoding_df = label_encoding_df.drop(['bias'], axis = 1)\r\n",
        "nb_X = label_encoding_df.drop('class', axis=1)  \r\n",
        "nb_y = label_encoding_df['class']\r\n",
        "nb_X_train, nb_X_test, nb_y_train, nb_y_test = train_test_split(nb_X, nb_y, test_size=0.33)"
      ],
      "execution_count": 36,
      "outputs": []
    },
    {
      "cell_type": "code",
      "metadata": {
        "id": "yeaTjtpPt1ah"
      },
      "source": [
        "    nb_clf = NaiveBayes()\r\n",
        "    nb_clf.fit(nb_X_train, nb_y_train)\r\n",
        "    nb_y_pred = nb_clf.predict(nb_X_test)"
      ],
      "execution_count": 37,
      "outputs": []
    },
    {
      "cell_type": "code",
      "metadata": {
        "colab": {
          "base_uri": "https://localhost:8080/"
        },
        "id": "y9CC-pF1Nj0_",
        "outputId": "5e04e277-5ccd-4ece-af8c-d7d013054681"
      },
      "source": [
        "    nb_accuracy = accuracy_score(nb_y_test, nb_y_pred)\r\n",
        "    print (\"NaiveBayes accuracy:\", nb_accuracy)"
      ],
      "execution_count": 38,
      "outputs": [
        {
          "output_type": "stream",
          "text": [
            "NaiveBayes accuracy: 0.9037313432835821\n"
          ],
          "name": "stdout"
        }
      ]
    },
    {
      "cell_type": "code",
      "metadata": {
        "colab": {
          "base_uri": "https://localhost:8080/"
        },
        "id": "blElpqFsNz8N",
        "outputId": "d1a9890f-4aa4-4dfd-8f22-9aef0cb888a9"
      },
      "source": [
        "nb_cf_matrix = confusion_matrix(nb_y_test, nb_y_pred)\r\n",
        "print(nb_cf_matrix)"
      ],
      "execution_count": 39,
      "outputs": [
        {
          "output_type": "stream",
          "text": [
            "[[1288  113]\n",
            " [ 145 1134]]\n"
          ],
          "name": "stdout"
        }
      ]
    },
    {
      "cell_type": "code",
      "metadata": {
        "colab": {
          "base_uri": "https://localhost:8080/",
          "height": 282
        },
        "id": "JIWT2OunNz8i",
        "outputId": "b503ef2a-818d-46d3-8b69-2b69610e1925"
      },
      "source": [
        "sns.heatmap(nb_cf_matrix, annot=True)"
      ],
      "execution_count": 40,
      "outputs": [
        {
          "output_type": "execute_result",
          "data": {
            "text/plain": [
              "<matplotlib.axes._subplots.AxesSubplot at 0x7f6793fb0390>"
            ]
          },
          "metadata": {
            "tags": []
          },
          "execution_count": 40
        },
        {
          "output_type": "display_data",
          "data": {
            "image/png": "[encoded data removed]",
            "text/plain": [
              "<Figure size 432x288 with 2 Axes>"
            ]
          },
          "metadata": {
            "tags": [],
            "needs_background": "light"
          }
        }
      ]
    },
    {
      "cell_type": "code",
      "metadata": {
        "colab": {
          "base_uri": "https://localhost:8080/"
        },
        "id": "h_cOYdvvNz8i",
        "outputId": "01163410-7939-4f56-bbb8-10e47b0e3988"
      },
      "source": [
        "from sklearn.metrics import precision_score, recall_score, f1_score\r\n",
        "\r\n",
        "print('Micro Precision: {:.2f}'.format(precision_score(nb_y_test, nb_y_pred, average='micro')))\r\n",
        "print('Micro Recall: {:.2f}'.format(recall_score(nb_y_test, nb_y_pred, average='micro')))\r\n",
        "print('Micro F1-score: {:.2f}\\n'.format(f1_score(nb_y_test, nb_y_pred, average='micro')))\r\n",
        "\r\n",
        "print('Macro Precision: {:.2f}'.format(precision_score(nb_y_test, nb_y_pred, average='macro')))\r\n",
        "print('Macro Recall: {:.2f}'.format(recall_score(nb_y_test, nb_y_pred, average='macro')))\r\n",
        "print('Macro F1-score: {:.2f}\\n'.format(f1_score(nb_y_test, nb_y_pred, average='macro')))\r\n",
        "\r\n",
        "print('Weighted Precision: {:.2f}'.format(precision_score(nb_y_test, nb_y_pred, average='weighted')))\r\n",
        "print('Weighted Recall: {:.2f}'.format(recall_score(nb_y_test, nb_y_pred, average='weighted')))\r\n",
        "print('Weighted F1-score: {:.2f}'.format(f1_score(nb_y_test, nb_y_pred, average='weighted')))"
      ],
      "execution_count": 41,
      "outputs": [
        {
          "output_type": "stream",
          "text": [
            "Micro Precision: 0.90\n",
            "Micro Recall: 0.90\n",
            "Micro F1-score: 0.90\n",
            "\n",
            "Macro Precision: 0.90\n",
            "Macro Recall: 0.90\n",
            "Macro F1-score: 0.90\n",
            "\n",
            "Weighted Precision: 0.90\n",
            "Weighted Recall: 0.90\n",
            "Weighted F1-score: 0.90\n"
          ],
          "name": "stdout"
        }
      ]
    }
  ]
}