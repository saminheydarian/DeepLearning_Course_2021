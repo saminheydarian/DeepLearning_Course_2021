{
  "nbformat": 4,
  "nbformat_minor": 0,
  "metadata": {
    "colab": {
      "name": "DL_Assignment2.ipynb",
      "provenance": [],
      "collapsed_sections": []
    },
    "kernelspec": {
      "name": "python3",
      "display_name": "Python 3"
    },
    "accelerator": "GPU"
  },
  "cells": [
    {
      "cell_type": "markdown",
      "metadata": {
        "id": "tkeDKEhdq78F"
      },
      "source": [
        "In this assignment, you will be familiar with the fundamental elements and processes in deep learning and models' training. you will: \n",
        "- Train a simple model for image classification using Tensorflow high-level APIs\n",
        "- Customize training process in deep models\n",
        "- Analyze the effect of using different activation functions in deep models\n",
        "\n",
        "Try to keep your model as simple as possible (minimum number of layers and neurons with acceptable performance).\n",
        "\n",
        "**Notes:** \n",
        "- When you submit your assignment, the output of every cell should be visible.\n",
        "- You are not eligible to change any parts of the code except the predefined sections.\n",
        "- You can add your implementation only in the predefined sections.\n",
        "\n",
        " "
      ]
    },
    {
      "cell_type": "code",
      "metadata": {
        "id": "APr4MC1mux_2"
      },
      "source": [
        "import tensorflow as tf\n",
        "import numpy as np\n",
        "from tensorflow.keras.datasets import imdb\n",
        "from tensorflow.keras.preprocessing import sequence\n",
        "from tensorflow.keras.layers import Dense, Embedding, SimpleRNN, LSTM\n",
        "from tensorflow.keras.models import Sequential\n",
        "from tensorflow import keras\n",
        "import time\n",
        "import os"
      ],
      "execution_count": 1,
      "outputs": []
    },
    {
      "cell_type": "markdown",
      "metadata": {
        "id": "ZvpE5kc3zn-E"
      },
      "source": [
        "For this assignment, we consider an image classification task using fashion mnist dataset. This dataset consists of 70 thousand images, and the target is determining the category of the images. This dataset has 10 different classes. More details about the dataset are provided here (https://www.kaggle.com/zalando-research/fashionmnist).\n",
        "\n",
        "Before training our model, we need to load the dataset and pre-process it. In the following section, we load and normalize images properly.\n",
        "\n"
      ]
    },
    {
      "cell_type": "code",
      "metadata": {
        "colab": {
          "base_uri": "https://localhost:8080/"
        },
        "id": "plHyaCETv6He",
        "outputId": "1aaa3dbc-3245-4f8a-da47-a164ee954324"
      },
      "source": [
        "batch_size = 32\n",
        "\n",
        "print('Loading data...')\n",
        "(data_train, label_train), (data_test, label_test) = tf.keras.datasets.fashion_mnist.load_data()\n",
        "\n",
        "print(len(data_train), 'train samples')\n",
        "print(len(data_test), 'test samples')\n",
        "\n",
        "data_train = data_train / 255\n",
        "data_test = data_test / 255\n"
      ],
      "execution_count": 2,
      "outputs": [
        {
          "output_type": "stream",
          "text": [
            "Loading data...\n",
            "60000 train samples\n",
            "10000 test samples\n"
          ],
          "name": "stdout"
        }
      ]
    },
    {
      "cell_type": "code",
      "metadata": {
        "id": "OHh1vBKs_Zu8"
      },
      "source": [
        "num_classes = 10\n",
        "label_train = tf.keras.utils.to_categorical(label_train, num_classes)\n",
        "label_test = tf.keras.utils.to_categorical(label_test, num_classes)"
      ],
      "execution_count": 3,
      "outputs": []
    },
    {
      "cell_type": "code",
      "metadata": {
        "id": "_aLrLDSd8jlo"
      },
      "source": [
        "hidden_units = 128"
      ],
      "execution_count": 4,
      "outputs": []
    },
    {
      "cell_type": "markdown",
      "metadata": {
        "id": "g_qUA2EW3w5W"
      },
      "source": [
        "Now that we prepare our data, we need to create the model. There are three different ways in TensorFlow that you can use for creating deep models. Sequential API, Functional API, and model sub-classing.\n"
      ]
    },
    {
      "cell_type": "markdown",
      "metadata": {
        "id": "cMuhQyWZ8Q3M"
      },
      "source": [
        "# Sequential API\n",
        "This is the simplest way to make deep models in TensorFlow. You can use this API for simple models containing a stack of layers. Using this API usually is not flexible enough for customization in deep models, so we go for other APIs for customizations.\n",
        "\n",
        "\n",
        "\n"
      ]
    },
    {
      "cell_type": "markdown",
      "metadata": {
        "id": "8adx58qjBJlC"
      },
      "source": [
        "In this part, we want you to implement a simple deep model for image classification using sequential API.\n",
        "\n"
      ]
    },
    {
      "cell_type": "code",
      "metadata": {
        "id": "DtqwQ4_0wBQN",
        "colab": {
          "base_uri": "https://localhost:8080/"
        },
        "outputId": "c56bc69f-371a-4ee6-8a07-85c67de6499c"
      },
      "source": [
        "model = Sequential()\n",
        "model.add(keras.layers.Input(shape = data_train[0].shape))\n",
        "model.add(keras.layers.Flatten())\n",
        "model.add(keras.layers.Dense(units=hidden_units, activation='relu'))\n",
        "model.add(keras.layers.Dense(units=10, activation='softmax'))\n",
        "\n",
        "\n",
        "model.summary()"
      ],
      "execution_count": 5,
      "outputs": [
        {
          "output_type": "stream",
          "text": [
            "Model: \"sequential\"\n",
            "_________________________________________________________________\n",
            "Layer (type)                 Output Shape              Param #   \n",
            "=================================================================\n",
            "flatten (Flatten)            (None, 784)               0         \n",
            "_________________________________________________________________\n",
            "dense (Dense)                (None, 128)               100480    \n",
            "_________________________________________________________________\n",
            "dense_1 (Dense)              (None, 10)                1290      \n",
            "=================================================================\n",
            "Total params: 101,770\n",
            "Trainable params: 101,770\n",
            "Non-trainable params: 0\n",
            "_________________________________________________________________\n"
          ],
          "name": "stdout"
        }
      ]
    },
    {
      "cell_type": "markdown",
      "metadata": {
        "id": "TdOGNEhsCGKY"
      },
      "source": [
        "Now we need to compile the model. Set appropriate parameters for loss function and metrics and tell us your reasons for your choices.\n",
        "\n"
      ]
    },
    {
      "cell_type": "code",
      "metadata": {
        "id": "ceiOoxR9ToOa"
      },
      "source": [
        "#### put your implementation here ####\n",
        "model.compile(optimizer='rmsprop', loss='categorical_crossentropy', metrics=['accuracy'])\n",
        "#### put your implementation here ####"
      ],
      "execution_count": 6,
      "outputs": []
    },
    {
      "cell_type": "code",
      "metadata": {
        "colab": {
          "base_uri": "https://localhost:8080/"
        },
        "id": "__AeprshToOa",
        "outputId": "104c5c9e-ef97-4fd7-9ee0-41c8fcdb6db1"
      },
      "source": [
        "history = model.fit(data_train, label_train,\n",
        "                    epochs=10,\n",
        "                    batch_size=batch_size,\n",
        "                    validation_split=0.2, )"
      ],
      "execution_count": 7,
      "outputs": [
        {
          "output_type": "stream",
          "text": [
            "Epoch 1/10\n",
            "1500/1500 [==============================] - 5s 2ms/step - loss: 0.6749 - accuracy: 0.7633 - val_loss: 0.4416 - val_accuracy: 0.8354\n",
            "Epoch 2/10\n",
            "1500/1500 [==============================] - 3s 2ms/step - loss: 0.3969 - accuracy: 0.8564 - val_loss: 0.4151 - val_accuracy: 0.8527\n",
            "Epoch 3/10\n",
            "1500/1500 [==============================] - 3s 2ms/step - loss: 0.3516 - accuracy: 0.8731 - val_loss: 0.3610 - val_accuracy: 0.8746\n",
            "Epoch 4/10\n",
            "1500/1500 [==============================] - 3s 2ms/step - loss: 0.3307 - accuracy: 0.8811 - val_loss: 0.3730 - val_accuracy: 0.8764\n",
            "Epoch 5/10\n",
            "1500/1500 [==============================] - 3s 2ms/step - loss: 0.3185 - accuracy: 0.8850 - val_loss: 0.3823 - val_accuracy: 0.8721\n",
            "Epoch 6/10\n",
            "1500/1500 [==============================] - 3s 2ms/step - loss: 0.3033 - accuracy: 0.8932 - val_loss: 0.3768 - val_accuracy: 0.8782\n",
            "Epoch 7/10\n",
            "1500/1500 [==============================] - 3s 2ms/step - loss: 0.2929 - accuracy: 0.8970 - val_loss: 0.3878 - val_accuracy: 0.8781\n",
            "Epoch 8/10\n",
            "1500/1500 [==============================] - 3s 2ms/step - loss: 0.2844 - accuracy: 0.9001 - val_loss: 0.3782 - val_accuracy: 0.8842\n",
            "Epoch 9/10\n",
            "1500/1500 [==============================] - 3s 2ms/step - loss: 0.2738 - accuracy: 0.9046 - val_loss: 0.3567 - val_accuracy: 0.8864\n",
            "Epoch 10/10\n",
            "1500/1500 [==============================] - 3s 2ms/step - loss: 0.2644 - accuracy: 0.9052 - val_loss: 0.4056 - val_accuracy: 0.8806\n"
          ],
          "name": "stdout"
        }
      ]
    },
    {
      "cell_type": "markdown",
      "metadata": {
        "id": "sjkcfzSaToOb"
      },
      "source": [
        "After training the model, we can evaluate it on the test set.\n",
        "\n"
      ]
    },
    {
      "cell_type": "code",
      "metadata": {
        "colab": {
          "base_uri": "https://localhost:8080/"
        },
        "id": "Qn86cDhTToOb",
        "outputId": "ee7ced19-6850-4f54-a606-627c16a1c738"
      },
      "source": [
        "model.evaluate(data_test, label_test)"
      ],
      "execution_count": 8,
      "outputs": [
        {
          "output_type": "stream",
          "text": [
            "313/313 [==============================] - 1s 2ms/step - loss: 0.4391 - accuracy: 0.8698\n"
          ],
          "name": "stdout"
        },
        {
          "output_type": "execute_result",
          "data": {
            "text/plain": [
              "[0.4390788674354553, 0.8697999715805054]"
            ]
          },
          "metadata": {
            "tags": []
          },
          "execution_count": 8
        }
      ]
    },
    {
      "cell_type": "markdown",
      "metadata": {
        "id": "pCZDoRmaEjqf"
      },
      "source": [
        "# Functional API\n",
        "As we told before, sequential API is suitable to make plain deep models. However, the cost of simplicity is the limitation. For example, you cannot create the following model using sequential API.\n",
        "\n",
        "<center>\n",
        "<img src=\"https://upload.wikimedia.org/wikipedia/commons/thumb/5/5f/ResNets.svg/1200px-ResNets.svg.png\" width=\"200\"/>\n",
        "\n",
        "</center>\n",
        "<br>\n",
        "\n",
        "In this case, we can use functional API to create our models. Read more about this API on this link(https://www.tensorflow.org/guide/keras/functional) and re-implement your model (what you made in the previous section) using this API. Compile and evaluate your model.\n",
        "\n",
        "\n"
      ]
    },
    {
      "cell_type": "code",
      "metadata": {
        "id": "VRKjLuCVyVii",
        "colab": {
          "base_uri": "https://localhost:8080/"
        },
        "outputId": "47bde9d8-e2ab-4f86-ebfc-755c4581042e"
      },
      "source": [
        "#### put your implementations here ####\n",
        "img_inputs = keras.layers.Input(shape=data_train[0].shape)\n",
        "flatten_image_inputs = keras.layers.Flatten()(img_inputs)\n",
        "hidden_outputs = keras.layers.Dense(units=hidden_units, activation='relu')(flatten_image_inputs)\n",
        "outputs = keras.layers.Dense(units=10, activation='softmax')(hidden_outputs)\n",
        "\n",
        "model = keras.Model(inputs=img_inputs, outputs=outputs, name=\"fashion_mnist_model\")\n",
        "\n",
        "model.summary()"
      ],
      "execution_count": 9,
      "outputs": [
        {
          "output_type": "stream",
          "text": [
            "Model: \"fashion_mnist_model\"\n",
            "_________________________________________________________________\n",
            "Layer (type)                 Output Shape              Param #   \n",
            "=================================================================\n",
            "input_2 (InputLayer)         [(None, 28, 28)]          0         \n",
            "_________________________________________________________________\n",
            "flatten_1 (Flatten)          (None, 784)               0         \n",
            "_________________________________________________________________\n",
            "dense_2 (Dense)              (None, 128)               100480    \n",
            "_________________________________________________________________\n",
            "dense_3 (Dense)              (None, 10)                1290      \n",
            "=================================================================\n",
            "Total params: 101,770\n",
            "Trainable params: 101,770\n",
            "Non-trainable params: 0\n",
            "_________________________________________________________________\n"
          ],
          "name": "stdout"
        }
      ]
    },
    {
      "cell_type": "code",
      "metadata": {
        "colab": {
          "base_uri": "https://localhost:8080/",
          "height": 369
        },
        "id": "FXWP3Pwhdvsn",
        "outputId": "4bb94d1f-a75c-4e50-8e15-09e63a432815"
      },
      "source": [
        "keras.utils.plot_model(model, \"functional_model.png\")"
      ],
      "execution_count": 10,
      "outputs": [
        {
          "output_type": "execute_result",
          "data": {
            "image/png": "[encoded data removed]",
            "text/plain": [
              "<IPython.core.display.Image object>"
            ]
          },
          "metadata": {
            "tags": []
          },
          "execution_count": 10
        }
      ]
    },
    {
      "cell_type": "code",
      "metadata": {
        "id": "FqQ-J4DHdsnH"
      },
      "source": [
        "model.compile(optimizer='rmsprop', loss='categorical_crossentropy', metrics=['accuracy'])"
      ],
      "execution_count": 11,
      "outputs": []
    },
    {
      "cell_type": "code",
      "metadata": {
        "colab": {
          "base_uri": "https://localhost:8080/"
        },
        "id": "2YsyCyqbd6I-",
        "outputId": "d0c64a6a-ff41-41f0-efbe-88346214e03e"
      },
      "source": [
        "history = model.fit(data_train, label_train,\n",
        "                    epochs=10,\n",
        "                    batch_size=batch_size,\n",
        "                    validation_split=0.2, )"
      ],
      "execution_count": 12,
      "outputs": [
        {
          "output_type": "stream",
          "text": [
            "Epoch 1/10\n",
            "1500/1500 [==============================] - 4s 2ms/step - loss: 0.6617 - accuracy: 0.7707 - val_loss: 0.3961 - val_accuracy: 0.8549\n",
            "Epoch 2/10\n",
            "1500/1500 [==============================] - 3s 2ms/step - loss: 0.3972 - accuracy: 0.8562 - val_loss: 0.3765 - val_accuracy: 0.8673\n",
            "Epoch 3/10\n",
            "1500/1500 [==============================] - 3s 2ms/step - loss: 0.3520 - accuracy: 0.8726 - val_loss: 0.3958 - val_accuracy: 0.8585\n",
            "Epoch 4/10\n",
            "1500/1500 [==============================] - 3s 2ms/step - loss: 0.3339 - accuracy: 0.8803 - val_loss: 0.3683 - val_accuracy: 0.8773\n",
            "Epoch 5/10\n",
            "1500/1500 [==============================] - 3s 2ms/step - loss: 0.3168 - accuracy: 0.8893 - val_loss: 0.3771 - val_accuracy: 0.8698\n",
            "Epoch 6/10\n",
            "1500/1500 [==============================] - 3s 2ms/step - loss: 0.2976 - accuracy: 0.8940 - val_loss: 0.3703 - val_accuracy: 0.8761\n",
            "Epoch 7/10\n",
            "1500/1500 [==============================] - 3s 2ms/step - loss: 0.2907 - accuracy: 0.8985 - val_loss: 0.3684 - val_accuracy: 0.8786\n",
            "Epoch 8/10\n",
            "1500/1500 [==============================] - 3s 2ms/step - loss: 0.2869 - accuracy: 0.8973 - val_loss: 0.3791 - val_accuracy: 0.8832\n",
            "Epoch 9/10\n",
            "1500/1500 [==============================] - 3s 2ms/step - loss: 0.2758 - accuracy: 0.9046 - val_loss: 0.4023 - val_accuracy: 0.8724\n",
            "Epoch 10/10\n",
            "1500/1500 [==============================] - 3s 2ms/step - loss: 0.2706 - accuracy: 0.9051 - val_loss: 0.3881 - val_accuracy: 0.8871\n"
          ],
          "name": "stdout"
        }
      ]
    },
    {
      "cell_type": "code",
      "metadata": {
        "id": "JXPAzUkwRBdX",
        "colab": {
          "base_uri": "https://localhost:8080/"
        },
        "outputId": "fe80e4b8-a6e2-44b0-d4e1-8e5e1c348415"
      },
      "source": [
        "model.evaluate(data_test, label_test)\n",
        "#### put your implementations here ####"
      ],
      "execution_count": 13,
      "outputs": [
        {
          "output_type": "stream",
          "text": [
            "313/313 [==============================] - 1s 2ms/step - loss: 0.4114 - accuracy: 0.8812\n"
          ],
          "name": "stdout"
        },
        {
          "output_type": "execute_result",
          "data": {
            "text/plain": [
              "[0.4113749563694, 0.8812000155448914]"
            ]
          },
          "metadata": {
            "tags": []
          },
          "execution_count": 13
        }
      ]
    },
    {
      "cell_type": "markdown",
      "metadata": {
        "id": "_u2ejvHkRTQN"
      },
      "source": [
        "# Custom training loop\n",
        "\n",
        "The fit function used in the previous sections for training models is an easy way that we usually employ to train deep models. There is another way that is more customizable and flexible to train models. In this method, we write every step of training, including feeding data to the model, calculating loss, applying gradients...\n",
        "\n",
        "This section wants you to implement a custom training loop for the model you just made in the previous section.\n",
        "\n",
        "First, we make batches of training and testing data.\n",
        "\n"
      ]
    },
    {
      "cell_type": "code",
      "metadata": {
        "id": "tzgTX7WHRSXm"
      },
      "source": [
        "train_dataset = tf.data.Dataset.from_tensor_slices((data_train, label_train))\n",
        "train_dataset = train_dataset.shuffle(buffer_size=1024).batch(batch_size)\n",
        "\n",
        "test_dataset = tf.data.Dataset.from_tensor_slices((data_test, label_test))\n",
        "test_dataset = test_dataset.batch(batch_size)\n",
        "\n",
        "# re-compile the model\n",
        "#### put your implementations here ####\n",
        "img_inputs = keras.layers.Input(shape=data_train[0].shape)\n",
        "flatten_image_inputs = keras.layers.Flatten()(img_inputs)\n",
        "hidden_outputs = keras.layers.Dense(units=hidden_units, activation='relu')(flatten_image_inputs)\n",
        "outputs = keras.layers.Dense(units=10, activation='softmax')(hidden_outputs)\n",
        "\n",
        "model = keras.Model(inputs=img_inputs, outputs=outputs, name=\"fashion_mnist_model\")\n",
        "\n",
        "model.compile(optimizer='rmsprop', loss='categorical_crossentropy', metrics=['accuracy'])\n",
        "#### put your implementations here ####"
      ],
      "execution_count": 14,
      "outputs": []
    },
    {
      "cell_type": "markdown",
      "metadata": {
        "id": "PVZKTGqVV8NX"
      },
      "source": [
        "Now let's write the custom loop.\n",
        "\n",
        "Define Optimizer, loss function, and metrics properly.\n",
        "\n",
        "\n"
      ]
    },
    {
      "cell_type": "code",
      "metadata": {
        "id": "QNLSRmKMV__P"
      },
      "source": [
        "#### put your implementations here ####\n",
        "\n",
        "optimizer = keras.optimizers.RMSprop(\n",
        "    learning_rate=0.001,\n",
        "    rho=0.9,\n",
        "    momentum=0.0,\n",
        "    epsilon=1e-07,\n",
        "    centered=False,\n",
        "    name=\"RMSprop\",)\n",
        "\n",
        "loss_function = keras.losses.CategoricalCrossentropy(from_logits=True)\n",
        "\n",
        "train_acc_metric = keras.metrics.CategoricalAccuracy()\n",
        "test_acc_metric = keras.metrics.CategoricalAccuracy()\n",
        "#### put your implementations here ####"
      ],
      "execution_count": 15,
      "outputs": []
    },
    {
      "cell_type": "code",
      "metadata": {
        "colab": {
          "base_uri": "https://localhost:8080/"
        },
        "id": "WzIjz41WElbA",
        "outputId": "a9d370ca-e640-4719-8028-24ee688321a9"
      },
      "source": [
        "epochs = 2\n",
        "for epoch in range(epochs):\n",
        "    print(\"\\nStart of epoch %d\" % (epoch,))\n",
        " \n",
        "    # Iterate over the batches of the dataset.\n",
        "    for step, (x_batch_train, y_batch_train) in enumerate(train_dataset):\n",
        "        #### put your implementations here ####\n",
        "        with tf.GradientTape() as tape:\n",
        "            logits = model(x_batch_train, training=True)\n",
        "            loss_value = loss_function(y_batch_train, logits)\n",
        "        grads = tape.gradient(loss_value, model.trainable_weights)\n",
        "        optimizer.apply_gradients(zip(grads, model.trainable_weights))\n",
        "\n",
        "        # Update training metric.\n",
        "        train_acc_metric.update_state(y_batch_train, logits)\n",
        "\n",
        "        # Log every 100 batches.\n",
        "        if step % 100 == 0:\n",
        "            print(\n",
        "                \"Training loss (for one batch) at step %d: %.4f\"\n",
        "                % (step, float(loss_value))\n",
        "            )\n",
        "            print(\"Seen so far: %d samples\" % ((step + 1) * 64))\n",
        "\n",
        "    # Display metrics at the end of each epoch.\n",
        "    train_acc = train_acc_metric.result()\n",
        "    print(\"Training accuracy over epoch \" + str(epoch) + \": %.4f\" % (float(train_acc),))\n",
        "\n",
        "    # Reset training metrics at the end of each epoch\n",
        "    train_acc_metric.reset_states()\n",
        "  #### put your implementations here ####"
      ],
      "execution_count": 16,
      "outputs": [
        {
          "output_type": "stream",
          "text": [
            "\n",
            "Start of epoch 0\n",
            "Training loss (for one batch) at step 0: 2.2473\n",
            "Seen so far: 64 samples\n",
            "Training loss (for one batch) at step 100: 0.6655\n",
            "Seen so far: 6464 samples\n",
            "Training loss (for one batch) at step 200: 0.7112\n",
            "Seen so far: 12864 samples\n",
            "Training loss (for one batch) at step 300: 0.4953\n",
            "Seen so far: 19264 samples\n",
            "Training loss (for one batch) at step 400: 0.5009\n",
            "Seen so far: 25664 samples\n",
            "Training loss (for one batch) at step 500: 0.6090\n",
            "Seen so far: 32064 samples\n",
            "Training loss (for one batch) at step 600: 0.5567\n",
            "Seen so far: 38464 samples\n",
            "Training loss (for one batch) at step 700: 0.4166\n",
            "Seen so far: 44864 samples\n",
            "Training loss (for one batch) at step 800: 0.4026\n",
            "Seen so far: 51264 samples\n",
            "Training loss (for one batch) at step 900: 0.5588\n",
            "Seen so far: 57664 samples\n",
            "Training loss (for one batch) at step 1000: 0.2890\n",
            "Seen so far: 64064 samples\n",
            "Training loss (for one batch) at step 1100: 0.6654\n",
            "Seen so far: 70464 samples\n",
            "Training loss (for one batch) at step 1200: 0.5065\n",
            "Seen so far: 76864 samples\n",
            "Training loss (for one batch) at step 1300: 0.1926\n",
            "Seen so far: 83264 samples\n",
            "Training loss (for one batch) at step 1400: 0.5344\n",
            "Seen so far: 89664 samples\n",
            "Training loss (for one batch) at step 1500: 0.4106\n",
            "Seen so far: 96064 samples\n",
            "Training loss (for one batch) at step 1600: 0.8108\n",
            "Seen so far: 102464 samples\n",
            "Training loss (for one batch) at step 1700: 0.3353\n",
            "Seen so far: 108864 samples\n",
            "Training loss (for one batch) at step 1800: 0.5754\n",
            "Seen so far: 115264 samples\n",
            "Training accuracy over epoch 0: 0.8199\n",
            "\n",
            "Start of epoch 1\n",
            "Training loss (for one batch) at step 0: 0.5783\n",
            "Seen so far: 64 samples\n",
            "Training loss (for one batch) at step 100: 0.1494\n",
            "Seen so far: 6464 samples\n",
            "Training loss (for one batch) at step 200: 0.3239\n",
            "Seen so far: 12864 samples\n",
            "Training loss (for one batch) at step 300: 0.2760\n",
            "Seen so far: 19264 samples\n",
            "Training loss (for one batch) at step 400: 0.3002\n",
            "Seen so far: 25664 samples\n",
            "Training loss (for one batch) at step 500: 0.3547\n",
            "Seen so far: 32064 samples\n",
            "Training loss (for one batch) at step 600: 0.3743\n",
            "Seen so far: 38464 samples\n",
            "Training loss (for one batch) at step 700: 0.1712\n",
            "Seen so far: 44864 samples\n",
            "Training loss (for one batch) at step 800: 0.4797\n",
            "Seen so far: 51264 samples\n",
            "Training loss (for one batch) at step 900: 0.1858\n",
            "Seen so far: 57664 samples\n",
            "Training loss (for one batch) at step 1000: 0.4989\n",
            "Seen so far: 64064 samples\n",
            "Training loss (for one batch) at step 1100: 0.1690\n",
            "Seen so far: 70464 samples\n",
            "Training loss (for one batch) at step 1200: 0.3025\n",
            "Seen so far: 76864 samples\n",
            "Training loss (for one batch) at step 1300: 0.1267\n",
            "Seen so far: 83264 samples\n",
            "Training loss (for one batch) at step 1400: 0.1837\n",
            "Seen so far: 89664 samples\n",
            "Training loss (for one batch) at step 1500: 0.3194\n",
            "Seen so far: 96064 samples\n",
            "Training loss (for one batch) at step 1600: 0.4951\n",
            "Seen so far: 102464 samples\n",
            "Training loss (for one batch) at step 1700: 0.4336\n",
            "Seen so far: 108864 samples\n",
            "Training loss (for one batch) at step 1800: 0.4673\n",
            "Seen so far: 115264 samples\n",
            "Training accuracy over epoch 1: 0.8640\n"
          ],
          "name": "stdout"
        }
      ]
    },
    {
      "cell_type": "markdown",
      "metadata": {
        "id": "1zI4IQtxfWmv"
      },
      "source": [
        "Now implement a custom loop for evaluating your trained model."
      ]
    },
    {
      "cell_type": "code",
      "metadata": {
        "colab": {
          "base_uri": "https://localhost:8080/"
        },
        "id": "qfLYICl6fV8a",
        "outputId": "2c097a0c-3f82-4066-8df8-c5fc9eef4460"
      },
      "source": [
        "#### put your implementations here ####\n",
        "epochs = 2\n",
        "for epoch in range(epochs):\n",
        "    print(\"\\nStart of epoch %d\" % (epoch,))\n",
        "\n",
        "\n",
        "    # Run a test loop at the end of each epoch.\n",
        "    for x_batch_test, y_batch_test in test_dataset:\n",
        "        test_logits = model(x_batch_test, training=False)\n",
        "        # Update test metrics\n",
        "        test_acc_metric.update_state(y_batch_test, test_logits)\n",
        "    test_acc = test_acc_metric.result()\n",
        "    test_acc_metric.reset_states()\n",
        "    print(\"Test acc: %.4f\" % (float(test_acc),))\n",
        "#### put your implementations here ####"
      ],
      "execution_count": 17,
      "outputs": [
        {
          "output_type": "stream",
          "text": [
            "\n",
            "Start of epoch 0\n",
            "Test acc: 0.8636\n",
            "\n",
            "Start of epoch 1\n",
            "Test acc: 0.8636\n"
          ],
          "name": "stdout"
        }
      ]
    },
    {
      "cell_type": "markdown",
      "metadata": {
        "id": "iC6O9ectgUOB"
      },
      "source": [
        "# Analyzing the effect of using different activation functions\n",
        "\n",
        "In this part, we want you to analyze the effect of using different activation functions in deep models. \n",
        "\n",
        "As you already know, your image classification task is a multi-class classification. Based on this fact, we want you to set different activation functions (linear, softmax, or whatever you think is suitable) for the last layer (we call this layer the classifier layer) and analyze the model's predictions using these activation functions.\n",
        "\n",
        "Toward this aim, first, re-implement one of the previous models, and then, use predict function to see the prediction of the model.\n",
        "\n"
      ]
    },
    {
      "cell_type": "code",
      "metadata": {
        "id": "Ng-B5rEGNVrx"
      },
      "source": [
        "#### put your implementations here ####\n",
        "\n",
        "def create_model(activation, loss):\n",
        "  model = Sequential()\n",
        "  model.add(keras.layers.Input(shape = data_train[0].shape))\n",
        "  model.add(keras.layers.Flatten())\n",
        "  model.add(keras.layers.Dense(units=hidden_units, activation='relu'))\n",
        "  model.add(keras.layers.Dense(units=10, activation=activation))\n",
        "\n",
        "  model.compile(optimizer='rmsprop', loss=loss, metrics=['accuracy'])\n",
        "\n",
        "  return model"
      ],
      "execution_count": 18,
      "outputs": []
    },
    {
      "cell_type": "code",
      "metadata": {
        "id": "whLwn1zbRObs"
      },
      "source": [
        "dict = {'linear':'mse',\n",
        "        'sigmoid':'binary_crossentropy',\n",
        "        'softmax':'categorical_crossentropy'}"
      ],
      "execution_count": 19,
      "outputs": []
    },
    {
      "cell_type": "code",
      "metadata": {
        "id": "aQJP60hZeDui"
      },
      "source": [
        "import sklearn.metrics\n",
        "from matplotlib import pyplot as plt"
      ],
      "execution_count": 20,
      "outputs": []
    },
    {
      "cell_type": "code",
      "metadata": {
        "colab": {
          "base_uri": "https://localhost:8080/"
        },
        "id": "TL16kvrPRvwT",
        "outputId": "8a0ff3c6-11e6-44f8-8c0f-0a2c93287488"
      },
      "source": [
        "confs = []\n",
        "predictions = []\n",
        "for key, value in dict.items():\n",
        "  model = create_model(key, value)\n",
        "\n",
        "  history = model.fit(data_train, label_train,\n",
        "                      epochs=10,\n",
        "                      batch_size=batch_size,\n",
        "                      validation_split=0.2,\n",
        "                      verbose=0)\n",
        "  \n",
        "  print('model with ', key, ' activation function and ', value, ' loss function: ')\n",
        "  model.evaluate(data_test, label_test)\n",
        "  print()\n",
        "\n",
        "\n",
        "  label_pred = model.predict(data_test)\n",
        "  predictions.append(label_pred[9])\n",
        "  label_pred = np.argmax(label_pred, axis=1)\n",
        "  label_true = np.argmax(label_test, axis=1)\n",
        "\n",
        "  conf = sklearn.metrics.confusion_matrix(label_true, label_pred, normalize=None)\n",
        "  confs.append(conf)\n",
        "\n"
      ],
      "execution_count": 24,
      "outputs": [
        {
          "output_type": "stream",
          "text": [
            "model with  linear  activation function and  mse  loss function: \n",
            "313/313 [==============================] - 1s 2ms/step - loss: 0.0221 - accuracy: 0.8710\n",
            "\n",
            "model with  sigmoid  activation function and  binary_crossentropy  loss function: \n",
            "313/313 [==============================] - 1s 2ms/step - loss: 0.0711 - accuracy: 0.8766\n",
            "\n",
            "model with  softmax  activation function and  categorical_crossentropy  loss function: \n",
            "313/313 [==============================] - 1s 2ms/step - loss: 0.4230 - accuracy: 0.8740\n",
            "\n"
          ],
          "name": "stdout"
        }
      ]
    },
    {
      "cell_type": "code",
      "metadata": {
        "colab": {
          "base_uri": "https://localhost:8080/",
          "height": 315
        },
        "id": "lDdEWaZQfcjW",
        "outputId": "278dec2e-4fd3-4d20-cc69-9923c150cffb"
      },
      "source": [
        "plt.figure(figsize=(25,5))\n",
        "for i, key in enumerate(dict):\n",
        "  plt.subplot(1,3,i+1)\n",
        "  plt.imshow(confs[i])\n",
        "  plt.xticks([])\n",
        "  plt.yticks([])\n",
        "  t = key + ' + ' + dict[key]\n",
        "  plt.title(t)"
      ],
      "execution_count": 25,
      "outputs": [
        {
          "output_type": "display_data",
          "data": {
            "image/png": "[encoded data removed]",
            "text/plain": [
              "<Figure size 1800x360 with 3 Axes>"
            ]
          },
          "metadata": {
            "tags": []
          }
        }
      ]
    },
    {
      "cell_type": "code",
      "metadata": {
        "colab": {
          "base_uri": "https://localhost:8080/"
        },
        "id": "1ZVHMF3XmUei",
        "outputId": "d8ba9af9-41e8-4c34-840f-b2694ab4ae76"
      },
      "source": [
        "for i, key in enumerate(dict):\n",
        "  print('Confusion matrix for: ', key, ' + ', dict[key])\n",
        "  print()\n",
        "  print(confs[i])\n",
        "  print()\n",
        "  print('--------------------------------------------------')"
      ],
      "execution_count": 26,
      "outputs": [
        {
          "output_type": "stream",
          "text": [
            "Confusion matrix for:  linear  +  mse\n",
            "\n",
            "[[821   3   9  49   3   0  99   0  16   0]\n",
            " [  3 958   3  31   2   0   1   0   2   0]\n",
            " [ 19   1 797  10  90   0  79   0   4   0]\n",
            " [ 18   2   4 896  22   0  51   0   6   1]\n",
            " [  0   0 124  46 724   0 104   0   2   0]\n",
            " [  0   0   0   0   0 940   0  40   1  19]\n",
            " [117   0  81  39  57   0 679   0  27   0]\n",
            " [  0   0   0   0   0   5   0 977   0  18]\n",
            " [  0   0   1   4   3   0  11   6 975   0]\n",
            " [  0   0   0   0   0   7   1  48   1 943]]\n",
            "\n",
            "--------------------------------------------------\n",
            "Confusion matrix for:  sigmoid  +  binary_crossentropy\n",
            "\n",
            "[[800   3  14  44   4   1 124   0  10   0]\n",
            " [  2 963   1  25   4   0   4   0   1   0]\n",
            " [ 20   2 788   9 122   0  55   0   4   0]\n",
            " [ 18   5  24 886  35   0  29   0   3   0]\n",
            " [  1   1  92  30 810   0  63   0   3   0]\n",
            " [  0   0   0   1   0 973   0  12   2  12]\n",
            " [ 99   1 103  34  73   0 675   0  15   0]\n",
            " [  0   0   0   0   0  28   0 924   1  47]\n",
            " [  1   0   1   3   7   1   3   4 980   0]\n",
            " [  0   0   0   0   0   9   1  23   0 967]]\n",
            "\n",
            "--------------------------------------------------\n",
            "Confusion matrix for:  softmax  +  categorical_crossentropy\n",
            "\n",
            "[[871   1  20  17   6   1  77   0   7   0]\n",
            " [  1 977   2  15   2   0   2   0   1   0]\n",
            " [ 29   0 864  12  67   1  20   1   6   0]\n",
            " [ 33  12  20 888  28   0  15   0   4   0]\n",
            " [  3   0 185  41 737   2  30   0   2   0]\n",
            " [  1   0   0   1   0 957   0  24   3  14]\n",
            " [179   1 133  32  74   0 569   0  12   0]\n",
            " [  0   0   0   0   0  18   0 959   0  23]\n",
            " [ 12   0   7   2   2   2   0   5 970   0]\n",
            " [  0   0   0   0   0   7   1  44   0 948]]\n",
            "\n",
            "--------------------------------------------------\n"
          ],
          "name": "stdout"
        }
      ]
    },
    {
      "cell_type": "code",
      "metadata": {
        "id": "3tV9X_jO2GoC"
      },
      "source": [
        "import numpy as np"
      ],
      "execution_count": null,
      "outputs": []
    },
    {
      "cell_type": "code",
      "metadata": {
        "colab": {
          "base_uri": "https://localhost:8080/",
          "height": 541
        },
        "id": "JEK6o25Fz1dd",
        "outputId": "e3ceacff-cce3-4d72-90b3-8bcebdca3a89"
      },
      "source": [
        "for i, key in enumerate(dict):\n",
        "  print('Prediction for activation function', key, ' :')\n",
        "  print(predictions[i])\n",
        "  print('------------------------------------------------------------')\n",
        "plt.figure(figsize=(25,5))\n",
        "plt.imshow(data_test[9], cmap ='gray')\n",
        "print(label_test[9])"
      ],
      "execution_count": 32,
      "outputs": [
        {
          "output_type": "stream",
          "text": [
            "Prediction for activation function linear  :\n",
            "[-0.00263143 -0.00796274 -0.01925065 -0.00943992 -0.0081144  -0.04263551\n",
            " -0.01082398  1.0844814  -0.00498062  0.00676251]\n",
            "------------------------------------------------------------\n",
            "Prediction for activation function sigmoid  :\n",
            "[5.5170175e-20 5.3388817e-19 6.6337853e-19 1.0529273e-16 6.9855701e-17\n",
            " 3.2872063e-06 6.7715474e-18 9.9990523e-01 1.7442957e-07 1.2173721e-09]\n",
            "------------------------------------------------------------\n",
            "Prediction for activation function softmax  :\n",
            "[6.8720373e-14 2.3416964e-16 1.6353407e-17 3.0392138e-16 7.4454592e-20\n",
            " 3.4239183e-06 4.9872077e-16 9.9999654e-01 1.3923876e-09 9.7271835e-10]\n",
            "------------------------------------------------------------\n",
            "[0. 0. 0. 0. 0. 0. 0. 1. 0. 0.]\n"
          ],
          "name": "stdout"
        },
        {
          "output_type": "display_data",
          "data": {
            "image/png": "[encoded data removed]",
            "text/plain": [
              "<Figure size 1800x360 with 1 Axes>"
            ]
          },
          "metadata": {
            "tags": [],
            "needs_background": "light"
          }
        }
      ]
    }
  ]
}