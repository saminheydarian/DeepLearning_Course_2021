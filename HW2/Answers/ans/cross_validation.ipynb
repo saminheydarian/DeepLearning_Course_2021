{
  "nbformat": 4,
  "nbformat_minor": 0,
  "metadata": {
    "colab": {
      "name": "cross_validation.ipynb",
      "provenance": [],
      "collapsed_sections": []
    },
    "kernelspec": {
      "name": "python3",
      "display_name": "Python 3"
    }
  },
  "cells": [
    {
      "cell_type": "code",
      "metadata": {
        "id": "APr4MC1mux_2"
      },
      "source": [
        "import tensorflow as tf\n",
        "import numpy as np\n",
        "from tensorflow.keras.datasets import imdb\n",
        "from tensorflow.keras.preprocessing import sequence\n",
        "from tensorflow.keras.layers import Dense, Embedding, SimpleRNN, LSTM\n",
        "from tensorflow.keras.models import Sequential\n",
        "from tensorflow import keras\n",
        "import time\n",
        "import os"
      ],
      "execution_count": null,
      "outputs": []
    },
    {
      "cell_type": "code",
      "metadata": {
        "colab": {
          "base_uri": "https://localhost:8080/"
        },
        "id": "plHyaCETv6He",
        "outputId": "54b1a58d-1c41-4336-bd71-53557e9e4650"
      },
      "source": [
        "batch_size = 32\n",
        "\n",
        "print('Loading data...')\n",
        "(data_train, label_train), (data_test, label_test) = tf.keras.datasets.fashion_mnist.load_data()\n",
        "\n",
        "print(len(data_train), 'train samples')\n",
        "print(len(data_test), 'test samples')\n",
        "\n",
        "data_train = data_train / 255\n",
        "data_test = data_test / 255\n"
      ],
      "execution_count": null,
      "outputs": [
        {
          "output_type": "stream",
          "text": [
            "Loading data...\n",
            "60000 train samples\n",
            "10000 test samples\n"
          ],
          "name": "stdout"
        }
      ]
    },
    {
      "cell_type": "code",
      "metadata": {
        "id": "OHh1vBKs_Zu8"
      },
      "source": [
        "num_classes = 10\n",
        "label_train = tf.keras.utils.to_categorical(label_train, num_classes)\n",
        "label_test = tf.keras.utils.to_categorical(label_test, num_classes)"
      ],
      "execution_count": null,
      "outputs": []
    },
    {
      "cell_type": "markdown",
      "metadata": {
        "id": "7Rie4yej5yab"
      },
      "source": [
        "# **Without hidden layer:**"
      ]
    },
    {
      "cell_type": "code",
      "metadata": {
        "colab": {
          "base_uri": "https://localhost:8080/"
        },
        "id": "lcQmTocM54EK",
        "outputId": "803a4617-abd0-4314-c47d-f300432f3af6"
      },
      "source": [
        "model = Sequential()\n",
        "model.add(keras.layers.Input(shape = data_train[0].shape))\n",
        "model.add(keras.layers.Flatten())\n",
        "model.add(keras.layers.Dense(units=10, activation='softmax'))\n",
        "\n",
        "model.summary()"
      ],
      "execution_count": null,
      "outputs": [
        {
          "output_type": "stream",
          "text": [
            "Model: \"sequential_35\"\n",
            "_________________________________________________________________\n",
            "Layer (type)                 Output Shape              Param #   \n",
            "=================================================================\n",
            "flatten_40 (Flatten)         (None, 784)               0         \n",
            "_________________________________________________________________\n",
            "dense_136 (Dense)            (None, 10)                7850      \n",
            "=================================================================\n",
            "Total params: 7,850\n",
            "Trainable params: 7,850\n",
            "Non-trainable params: 0\n",
            "_________________________________________________________________\n"
          ],
          "name": "stdout"
        }
      ]
    },
    {
      "cell_type": "code",
      "metadata": {
        "id": "ZSzeoKOe54EL"
      },
      "source": [
        "model.compile(optimizer='rmsprop', loss='categorical_crossentropy', metrics=['accuracy'])"
      ],
      "execution_count": null,
      "outputs": []
    },
    {
      "cell_type": "code",
      "metadata": {
        "colab": {
          "base_uri": "https://localhost:8080/"
        },
        "id": "KEPkdkdQ54EM",
        "outputId": "c058bb6e-b8d2-4225-c204-4c40f44dbde3"
      },
      "source": [
        "history = model.fit(data_train, label_train,\n",
        "                    epochs=10,\n",
        "                    batch_size=batch_size,\n",
        "                    validation_split=0.2,\n",
        "                    verbose=0,)\n",
        "\n",
        "print('model without hidden layer: ')\n",
        "model.evaluate(data_test, label_test)"
      ],
      "execution_count": null,
      "outputs": [
        {
          "output_type": "stream",
          "text": [
            "model without hidden layer: \n",
            "313/313 [==============================] - 1s 1ms/step - loss: 0.4868 - accuracy: 0.8428\n"
          ],
          "name": "stdout"
        },
        {
          "output_type": "execute_result",
          "data": {
            "text/plain": [
              "[0.4867507815361023, 0.8428000211715698]"
            ]
          },
          "metadata": {
            "tags": []
          },
          "execution_count": 69
        }
      ]
    },
    {
      "cell_type": "markdown",
      "metadata": {
        "id": "IfEC0OgE0AFh"
      },
      "source": [
        "# **Wide model:**"
      ]
    },
    {
      "cell_type": "code",
      "metadata": {
        "id": "WZcka54suXk-"
      },
      "source": [
        "def create_model(hidden_units_num):\n",
        "  model = Sequential()\n",
        "  model.add(keras.layers.Input(shape = data_train[0].shape))\n",
        "  model.add(keras.layers.Flatten())\n",
        "  model.add(keras.layers.Dense(units=hidden_units_num, activation='relu'))\n",
        "  model.add(keras.layers.Dense(units=10, activation='softmax'))\n",
        "\n",
        "  model.compile(optimizer='rmsprop', loss='categorical_crossentropy', metrics=['accuracy'])\n",
        "\n",
        "  return model"
      ],
      "execution_count": null,
      "outputs": []
    },
    {
      "cell_type": "code",
      "metadata": {
        "id": "TxKbuZlRxeyI"
      },
      "source": [
        "hidden_units_list = [10, 20, 32, 50, 128, 512, 1024, 1500, 2048]"
      ],
      "execution_count": null,
      "outputs": []
    },
    {
      "cell_type": "code",
      "metadata": {
        "colab": {
          "base_uri": "https://localhost:8080/"
        },
        "id": "6Sf-H2-HuXk_",
        "outputId": "25134f37-08fe-4a82-bf3f-a7c0ebd925c5"
      },
      "source": [
        "for units in hidden_units_list:\n",
        "  model = create_model(units)\n",
        "\n",
        "  history = model.fit(data_train, label_train,\n",
        "                      epochs=10,\n",
        "                      batch_size=batch_size,\n",
        "                      validation_split=0.2,\n",
        "                      verbose=0,)\n",
        "  \n",
        "  print('model with ', units, ' hidden units: ')\n",
        "  model.evaluate(data_test, label_test)\n",
        "  print('----------------------------------------------------------------------')"
      ],
      "execution_count": null,
      "outputs": [
        {
          "output_type": "stream",
          "text": [
            "model with  10  hidden units: \n",
            "313/313 [==============================] - 1s 1ms/step - loss: 0.4682 - accuracy: 0.8386\n",
            "----------------------------------------------------------------------\n",
            "model with  20  hidden units: \n",
            "313/313 [==============================] - 1s 1ms/step - loss: 0.4316 - accuracy: 0.8514\n",
            "----------------------------------------------------------------------\n",
            "model with  32  hidden units: \n",
            "313/313 [==============================] - 1s 1ms/step - loss: 0.4129 - accuracy: 0.8572\n",
            "----------------------------------------------------------------------\n",
            "model with  50  hidden units: \n",
            "313/313 [==============================] - 1s 1ms/step - loss: 0.4043 - accuracy: 0.8658\n",
            "----------------------------------------------------------------------\n",
            "model with  128  hidden units: \n",
            "313/313 [==============================] - 1s 2ms/step - loss: 0.4022 - accuracy: 0.8767\n",
            "----------------------------------------------------------------------\n",
            "model with  512  hidden units: \n",
            "313/313 [==============================] - 1s 2ms/step - loss: 0.4784 - accuracy: 0.8667\n",
            "----------------------------------------------------------------------\n",
            "model with  1024  hidden units: \n",
            "313/313 [==============================] - 1s 3ms/step - loss: 0.5558 - accuracy: 0.8592\n",
            "----------------------------------------------------------------------\n",
            "model with  1500  hidden units: \n",
            "313/313 [==============================] - 1s 4ms/step - loss: 0.5465 - accuracy: 0.8652\n",
            "----------------------------------------------------------------------\n",
            "model with  2048  hidden units: \n",
            "313/313 [==============================] - 2s 5ms/step - loss: 0.5828 - accuracy: 0.8716\n",
            "----------------------------------------------------------------------\n"
          ],
          "name": "stdout"
        }
      ]
    },
    {
      "cell_type": "code",
      "metadata": {
        "colab": {
          "base_uri": "https://localhost:8080/"
        },
        "id": "rr4IK_XL3rFw",
        "outputId": "de89d3b3-eea4-47d6-b236-36dbd6854660"
      },
      "source": [
        "model = Sequential(name='128 hidden units')\n",
        "model.add(keras.layers.Input(shape = data_train[0].shape))\n",
        "model.add(keras.layers.Flatten())\n",
        "model.add(keras.layers.Dense(units=128, activation='relu'))\n",
        "model.add(keras.layers.Dense(units=10, activation='softmax'))\n",
        "\n",
        "model.summary()"
      ],
      "execution_count": null,
      "outputs": [
        {
          "output_type": "stream",
          "text": [
            "Model: \"128 hidden units\"\n",
            "_________________________________________________________________\n",
            "Layer (type)                 Output Shape              Param #   \n",
            "=================================================================\n",
            "flatten_28 (Flatten)         (None, 784)               0         \n",
            "_________________________________________________________________\n",
            "dense_56 (Dense)             (None, 128)               100480    \n",
            "_________________________________________________________________\n",
            "dense_57 (Dense)             (None, 10)                1290      \n",
            "=================================================================\n",
            "Total params: 101,770\n",
            "Trainable params: 101,770\n",
            "Non-trainable params: 0\n",
            "_________________________________________________________________\n"
          ],
          "name": "stdout"
        }
      ]
    },
    {
      "cell_type": "markdown",
      "metadata": {
        "id": "BptrEe3l4UzM"
      },
      "source": [
        "# **Deep model:**"
      ]
    },
    {
      "cell_type": "code",
      "metadata": {
        "colab": {
          "base_uri": "https://localhost:8080/"
        },
        "id": "WGrpufmB4cS0",
        "outputId": "03794386-ab33-4bdc-ee84-23fed41a9316"
      },
      "source": [
        "model = Sequential()\n",
        "model.add(keras.layers.Input(shape = data_train[0].shape))\n",
        "model.add(keras.layers.Flatten())\n",
        "model.add(keras.layers.Dense(units=64, activation='relu'))\n",
        "model.add(keras.layers.Dense(units=64, activation='relu'))\n",
        "model.add(keras.layers.Dense(units=64, activation='relu'))\n",
        "model.add(keras.layers.Dense(units=64, activation='relu'))\n",
        "model.add(keras.layers.Dense(units=64, activation='relu'))\n",
        "model.add(keras.layers.Dense(units=64, activation='relu'))\n",
        "model.add(keras.layers.Dense(units=64, activation='relu'))\n",
        "model.add(keras.layers.Dense(units=64, activation='relu'))\n",
        "model.add(keras.layers.Dense(units=64, activation='relu'))\n",
        "model.add(keras.layers.Dense(units=64, activation='relu'))\n",
        "model.add(keras.layers.Dense(units=64, activation='relu'))\n",
        "model.add(keras.layers.Dense(units=64, activation='relu'))\n",
        "model.add(keras.layers.Dense(units=64, activation='relu'))\n",
        "\n",
        "model.add(keras.layers.Dense(units=10, activation='softmax'))\n",
        "\n",
        "model.summary()"
      ],
      "execution_count": null,
      "outputs": [
        {
          "output_type": "stream",
          "text": [
            "Model: \"sequential_33\"\n",
            "_________________________________________________________________\n",
            "Layer (type)                 Output Shape              Param #   \n",
            "=================================================================\n",
            "flatten_35 (Flatten)         (None, 784)               0         \n",
            "_________________________________________________________________\n",
            "dense_118 (Dense)            (None, 64)                50240     \n",
            "_________________________________________________________________\n",
            "dense_119 (Dense)            (None, 64)                4160      \n",
            "_________________________________________________________________\n",
            "dense_120 (Dense)            (None, 64)                4160      \n",
            "_________________________________________________________________\n",
            "dense_121 (Dense)            (None, 64)                4160      \n",
            "_________________________________________________________________\n",
            "dense_122 (Dense)            (None, 64)                4160      \n",
            "_________________________________________________________________\n",
            "dense_123 (Dense)            (None, 64)                4160      \n",
            "_________________________________________________________________\n",
            "dense_124 (Dense)            (None, 64)                4160      \n",
            "_________________________________________________________________\n",
            "dense_125 (Dense)            (None, 64)                4160      \n",
            "_________________________________________________________________\n",
            "dense_126 (Dense)            (None, 64)                4160      \n",
            "_________________________________________________________________\n",
            "dense_127 (Dense)            (None, 64)                4160      \n",
            "_________________________________________________________________\n",
            "dense_128 (Dense)            (None, 64)                4160      \n",
            "_________________________________________________________________\n",
            "dense_129 (Dense)            (None, 64)                4160      \n",
            "_________________________________________________________________\n",
            "dense_130 (Dense)            (None, 64)                4160      \n",
            "_________________________________________________________________\n",
            "dense_131 (Dense)            (None, 10)                650       \n",
            "=================================================================\n",
            "Total params: 100,810\n",
            "Trainable params: 100,810\n",
            "Non-trainable params: 0\n",
            "_________________________________________________________________\n"
          ],
          "name": "stdout"
        }
      ]
    },
    {
      "cell_type": "code",
      "metadata": {
        "id": "-SqCOwUK5dAk"
      },
      "source": [
        "model.compile(optimizer='rmsprop', loss='categorical_crossentropy', metrics=['accuracy'])"
      ],
      "execution_count": null,
      "outputs": []
    },
    {
      "cell_type": "code",
      "metadata": {
        "colab": {
          "base_uri": "https://localhost:8080/"
        },
        "id": "LuCwyXpu5Gne",
        "outputId": "cd81638b-622e-49b7-9429-66a9a975b975"
      },
      "source": [
        "history = model.fit(data_train, label_train,\n",
        "                    epochs=10,\n",
        "                    batch_size=batch_size,\n",
        "                    validation_split=0.2,\n",
        "                    verbose=0,)\n",
        "\n",
        "print('model with 13 hidden layers and 64 units per layer: ')\n",
        "model.evaluate(data_test, label_test)"
      ],
      "execution_count": null,
      "outputs": [
        {
          "output_type": "stream",
          "text": [
            "model with 13 hidden layers and 64 units per layer: \n",
            "313/313 [==============================] - 1s 2ms/step - loss: 0.5233 - accuracy: 0.8553\n"
          ],
          "name": "stdout"
        },
        {
          "output_type": "execute_result",
          "data": {
            "text/plain": [
              "[0.5232815146446228, 0.8553000092506409]"
            ]
          },
          "metadata": {
            "tags": []
          },
          "execution_count": 51
        }
      ]
    }
  ]
}